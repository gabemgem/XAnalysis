{
 "cells": [
  {
   "cell_type": "code",
   "id": "initial_id",
   "metadata": {
    "collapsed": true,
    "ExecuteTime": {
     "end_time": "2025-10-27T15:06:13.141670Z",
     "start_time": "2025-10-27T15:06:13.137220Z"
    }
   },
   "source": [
    "import mysql.connector\n",
    "import pandas as pd\n",
    "import matplotlib.pyplot as plt\n",
    "import pickle as pkl\n",
    "from sklearn.preprocessing import MinMaxScaler\n",
    "\n",
    "# --- Database connection details ---\n",
    "# DB_HOST = <YOUR DB HOST>\n",
    "# DB_USER = <YOUR DB USER>\n",
    "# DB_PASSWORD = <YOUR DB PASSWORD>\n",
    "# DB_NAME = <YOUR DB NAME>\n",
    "DB_HOST = 'localhost'\n",
    "DB_USER = 'gmaayan'\n",
    "DB_PASSWORD = 'j.UyNY.3NsP6vrdfy3LNq.2f'\n",
    "DB_NAME = 'tweets'"
   ],
   "outputs": [],
   "execution_count": 8
  },
  {
   "metadata": {
    "ExecuteTime": {
     "end_time": "2025-10-27T15:06:13.178735Z",
     "start_time": "2025-10-27T15:06:13.167680Z"
    }
   },
   "cell_type": "code",
   "source": [
    "# --- Connect to the database ---\n",
    "db_connection = mysql.connector.connect(\n",
    "    host=DB_HOST,\n",
    "    user=DB_USER,\n",
    "    password=DB_PASSWORD,\n",
    "    database=DB_NAME,\n",
    "    charset=\"utf8mb4\",\n",
    "    collation=\"utf8mb4_unicode_ci\"\n",
    ")\n",
    "\n",
    "# Create a cursor object\n",
    "cursor = db_connection.cursor()"
   ],
   "id": "7c68b904667d168",
   "outputs": [],
   "execution_count": 9
  },
  {
   "metadata": {
    "ExecuteTime": {
     "end_time": "2025-10-27T15:06:13.203818Z",
     "start_time": "2025-10-27T15:06:13.186886Z"
    }
   },
   "cell_type": "code",
   "source": [
    "# get tweet ids\n",
    "query = \"SELECT id FROM tweets\"\n",
    "cursor.execute(query)\n",
    "results = cursor.fetchall()\n",
    "tweet_ids = [result[0] for result in results]\n",
    "print(f'Retrieved {len(tweet_ids)} tweet ids.')"
   ],
   "id": "4cdd97dbbfb930a1",
   "outputs": [
    {
     "name": "stdout",
     "output_type": "stream",
     "text": [
      "Retrieved 11934 tweet ids.\n"
     ]
    }
   ],
   "execution_count": 10
  },
  {
   "metadata": {
    "ExecuteTime": {
     "end_time": "2025-10-27T15:06:14.218409Z",
     "start_time": "2025-10-27T15:06:13.226825Z"
    }
   },
   "cell_type": "code",
   "source": [
    "# get notes\n",
    "placeholders = \", \".join([\"%s\"] * len(tweet_ids))\n",
    "query = f\"\"\"SELECT \n",
    "    noteId,\n",
    "    tweetId,\n",
    "    classification,\n",
    "    believable,\n",
    "    harmful,\n",
    "    misleadingOther,\n",
    "    misleadingFactualError,\n",
    "    misleadingManipulatedMedia,\n",
    "    misleadingOutdatedInformation,\n",
    "    misleadingMissingImportantContext,\n",
    "    misleadingUnverifiedClaimAsFact,\n",
    "    misleadingSatire,\n",
    "    notMisleadingOther,\n",
    "    notMisleadingFactuallyCorrect,\n",
    "    notMisleadingOutdatedButNotWhenWritten,\n",
    "    notMisleadingClearlySatire,\n",
    "    notMisleadingPersonalOpinion\n",
    "FROM notes WHERE tweetId IN ({placeholders})\"\"\"\n",
    "cursor.execute(query, tweet_ids)\n",
    "results = cursor.fetchall()\n",
    "full_notes = pd.DataFrame(results, columns=[\n",
    "    'noteId', \n",
    "    'tweetId', \n",
    "    'classification', \n",
    "    'believable', \n",
    "    'harmful', \n",
    "    'misleadingOther', \n",
    "    'misleadingFactualError', \n",
    "    'misleadingManipulatedMedia', \n",
    "    'misleadingOutdatedInformation', \n",
    "    'misleadingMissingImportantContext', \n",
    "    'misleadingUnverifiedClaimAsFact', \n",
    "    'misleadingSatire', \n",
    "    'notMisleadingOther', \n",
    "    'notMisleadingFactuallyCorrect', \n",
    "    'notMisleadingOutdatedButNotWhenWritten', \n",
    "    'notMisleadingClearlySatire', \n",
    "    'notMisleadingPersonalOpinion'\n",
    "])\n",
    "note_ids = [str(id) for id in list(full_notes['noteId'].unique())]\n",
    "print(f'Retrieved {len(full_notes)} notes.')"
   ],
   "id": "396475f89616bb61",
   "outputs": [
    {
     "name": "stdout",
     "output_type": "stream",
     "text": [
      "Retrieved 61723 notes.\n"
     ]
    }
   ],
   "execution_count": 11
  },
  {
   "metadata": {
    "ExecuteTime": {
     "end_time": "2025-10-27T15:07:04.513015Z",
     "start_time": "2025-10-27T15:06:14.315446Z"
    }
   },
   "cell_type": "code",
   "source": [
    "# get ratings for the notes\n",
    "placeholders = \", \".join([\"%s\"] * len(note_ids))\n",
    "query = f\"\"\"SELECT \n",
    "    noteId,\n",
    "    raterParticipantId,\n",
    "    helpfulnessLevel,\n",
    "    ratedOnTweetId\n",
    "FROM note_ratings WHERE noteId IN ({placeholders})\"\"\"\n",
    "cursor.execute(query, note_ids)\n",
    "results = cursor.fetchall()\n",
    "full_ratings = pd.DataFrame(results, columns=[\n",
    "    'noteId', \n",
    "    'raterParticipantId', \n",
    "    'helpfulnessLevel', \n",
    "    'ratedOnTweetId'\n",
    "])\n",
    "print(f'Retrieved {len(full_ratings)} ratings.')"
   ],
   "id": "76a8a7855fd9af01",
   "outputs": [
    {
     "name": "stdout",
     "output_type": "stream",
     "text": [
      "Retrieved 29631500 ratings.\n"
     ]
    }
   ],
   "execution_count": 12
  },
  {
   "metadata": {
    "ExecuteTime": {
     "end_time": "2025-10-27T15:07:05.770331Z",
     "start_time": "2025-10-27T15:07:04.611285Z"
    }
   },
   "cell_type": "code",
   "source": [
    "# get full tweets\n",
    "query = f\"\"\"\n",
    "SELECT \n",
    "    id,\n",
    "    text,\n",
    "    created_at,\n",
    "    author_id,\n",
    "    retweet_count,\n",
    "    reply_count,\n",
    "    like_count,\n",
    "    quote_count,\n",
    "    bookmark_count,\n",
    "    impression_count,\n",
    "    interaction_score,\n",
    "    action_count\n",
    "FROM tweets\n",
    "\"\"\"\n",
    "cursor.execute(query)\n",
    "results = cursor.fetchall()\n",
    "full_tweets = pd.DataFrame(results, columns=[\n",
    "    'id', \n",
    "    'text', \n",
    "    'created_at', \n",
    "    'author_id', \n",
    "    'retweet_count', \n",
    "    'reply_count', \n",
    "    'like_count', \n",
    "    'quote_count', \n",
    "    'bookmark_count', \n",
    "    'impression_count',\n",
    "    'interaction_score',\n",
    "    'action_count'\n",
    "])\n",
    "print(f'Retrieved {len(full_tweets)} tweets.')"
   ],
   "id": "c54e1a61e4593a5b",
   "outputs": [
    {
     "name": "stdout",
     "output_type": "stream",
     "text": [
      "Retrieved 11934 tweets.\n"
     ]
    }
   ],
   "execution_count": 13
  },
  {
   "metadata": {
    "ExecuteTime": {
     "end_time": "2025-10-27T15:07:08.710734Z",
     "start_time": "2025-10-27T15:07:05.897525Z"
    }
   },
   "cell_type": "code",
   "source": [
    "# calculate interaction scores and externalities\n",
    "\n",
    "\n",
    "# get ratings score for the notes\n",
    "ratings_map = {\n",
    "    'HELPFUL': 1,\n",
    "    'SOMEWHAT_HELPFUL': 0,\n",
    "    'NOT_HELPFUL': -1\n",
    "}\n",
    "\n",
    "notes_map = {\n",
    "    'MISINFORMED_OR_POTENTIALLY_MISLEADING': -1,\n",
    "    'NOT_MISLEADING': 1,\n",
    "}\n",
    "\n",
    "full_ratings['rating_score'] = full_ratings['helpfulnessLevel'].map(ratings_map)\n",
    "full_notes['note_score'] = full_notes['classification'].map(notes_map)\n",
    "\n",
    "# calculate the sum of the ratings for each note\n",
    "full_ratings['rating_score'] = full_ratings['rating_score'].fillna(0)\n",
    "note_ratings = full_ratings[['noteId', 'rating_score']].groupby('noteId').sum().reset_index()\n",
    "# add one because original noter agrees with the note\n",
    "note_ratings['rating_score'] += 1\n",
    "\n",
    "# add note_ratings to full_notes\n",
    "full_notes = full_notes.merge(note_ratings, on='noteId', how='left')\n",
    "\n",
    "# calculate the overall note score as the note score times the rating score\n",
    "full_notes['externality_score'] = full_notes['note_score'] * full_notes['rating_score']"
   ],
   "id": "9a8830868165c103",
   "outputs": [],
   "execution_count": 14
  },
  {
   "metadata": {
    "ExecuteTime": {
     "end_time": "2025-10-27T15:07:08.828543Z",
     "start_time": "2025-10-27T15:07:08.814543Z"
    }
   },
   "cell_type": "code",
   "source": [
    "# add externality scores to tweets as the sum of the externality scores of the notes for each tweet\n",
    "notes_score_by_tweet = full_notes[['tweetId', 'externality_score']].groupby('tweetId').sum().reset_index()\n",
    "full_tweets = full_tweets.merge(notes_score_by_tweet, left_on='id', right_on='tweetId', how='left')\n",
    "\n",
    "# get average externality score and impression count\n",
    "full_tweets['externality_score'] = full_tweets['externality_score'].fillna(0)\n",
    "avg_externality_score = full_tweets['externality_score'].mean()\n",
    "avg_impression_count = full_tweets['impression_count'].mean() / 1000\n",
    "externality_normalizer = avg_externality_score / avg_impression_count\n",
    "\n",
    "# filter out tweets with no impressions\n",
    "full_tweets = full_tweets[full_tweets['impression_count'] > 0]\n",
    "\n",
    "# calculate the externality as the externality score divided by the number of impressions\n",
    "full_tweets['externality'] = full_tweets['externality_score'] / (full_tweets['impression_count'] / 1000)\n",
    "# normalize the externality\n",
    "full_tweets['externality'] = full_tweets['externality'] / externality_normalizer"
   ],
   "id": "4e70cb751a319e53",
   "outputs": [],
   "execution_count": 15
  },
  {
   "metadata": {
    "ExecuteTime": {
     "end_time": "2025-10-27T15:07:08.851076Z",
     "start_time": "2025-10-27T15:07:08.836057Z"
    }
   },
   "cell_type": "code",
   "source": [
    "# add action count per 1000 impressions\n",
    "full_tweets['action_count_per_1000_impressions'] = full_tweets['action_count'] / (full_tweets['impression_count'] / 1000)\n",
    "\n",
    "# remove outlier with massive action count \n",
    "# Alina Habba tweetid: 1819110904216084953\n",
    "# Drug free world tweetid: 1847181579103490414\n",
    "full_tweets = full_tweets[full_tweets['action_count_per_1000_impressions'] < 150]\n",
    "\n",
    "print(full_tweets[['interaction_score','externality', 'action_count']].describe())"
   ],
   "id": "c1eb816c7bc8324d",
   "outputs": [
    {
     "name": "stdout",
     "output_type": "stream",
     "text": [
      "       interaction_score   externality  action_count\n",
      "count       1.185300e+04  11853.000000  1.185300e+04\n",
      "mean        7.261223e-03     11.011094  7.378737e+04\n",
      "std         8.994813e-03    112.393845  1.593500e+05\n",
      "min         4.500000e-07   -600.148053  5.000000e+00\n",
      "25%         1.650212e-03      0.836288  5.880000e+03\n",
      "50%         4.360297e-03      3.789348  2.032700e+04\n",
      "75%         9.392109e-03     11.337928  7.139900e+04\n",
      "max         1.254045e-01  11588.704536  5.446737e+06\n"
     ]
    }
   ],
   "execution_count": 16
  },
  {
   "metadata": {
    "ExecuteTime": {
     "end_time": "2025-10-27T15:07:09.460517Z",
     "start_time": "2025-10-27T15:07:08.856083Z"
    }
   },
   "cell_type": "code",
   "source": [
    "# plot histograms of externality cpm and action counts per 1000 impressions\n",
    "fig, ax = plt.subplots(2, 1, figsize=(10, 10))\n",
    "ax[0].hist(full_tweets['externality'], bins=100, log=True)\n",
    "ax[0].set_xlabel('Externality')\n",
    "ax[0].set_ylabel('Count')\n",
    "ax[0].set_title('Distribution of Externality')\n",
    "ax[1].hist(full_tweets['action_count_per_1000_impressions'], bins=100, log=True )\n",
    "ax[1].set_xlabel('Action Count')\n",
    "ax[1].set_ylabel('Count')\n",
    "ax[1].set_title('Distribution of Action Count')\n",
    "plt.show()"
   ],
   "id": "c6b546819e83af65",
   "outputs": [
    {
     "data": {
      "text/plain": [
       "<Figure size 1000x1000 with 2 Axes>"
      ],
      "image/png": "[encoded data removed]"
     },
     "metadata": {},
     "output_type": "display_data",
     "jetTransient": {
      "display_id": null
     }
    }
   ],
   "execution_count": 17
  },
  {
   "metadata": {
    "ExecuteTime": {
     "end_time": "2025-10-27T15:07:09.478987Z",
     "start_time": "2025-10-27T15:07:09.470524Z"
    }
   },
   "cell_type": "code",
   "source": "print(full_tweets[['impression_count']].describe())",
   "id": "9d43f6ae03bbee05",
   "outputs": [
    {
     "name": "stdout",
     "output_type": "stream",
     "text": [
      "       impression_count\n",
      "count      1.185300e+04\n",
      "mean       1.388155e+07\n",
      "std        2.539523e+07\n",
      "min        5.290000e+02\n",
      "25%        1.905037e+06\n",
      "50%        5.114366e+06\n",
      "75%        1.476343e+07\n",
      "max        6.343875e+08\n"
     ]
    }
   ],
   "execution_count": 18
  },
  {
   "metadata": {
    "ExecuteTime": {
     "end_time": "2025-10-27T15:07:09.722171Z",
     "start_time": "2025-10-27T15:07:09.486997Z"
    }
   },
   "cell_type": "code",
   "source": [
    "full_tweets['created_at_dt'] = pd.to_datetime(full_tweets['created_at'])\n",
    "date_pulled = pd.to_datetime('02/02/2025')\n",
    "full_tweets['days_old'] = (date_pulled - full_tweets['created_at_dt']).dt.days\n",
    "full_tweets['months_old'] = full_tweets['days_old']/30\n",
    "\n",
    "# plot histogram of impressions per month\n",
    "plt.hist(full_tweets['impression_count']/(full_tweets['days_old']/30), bins=30, log=True)\n",
    "plt.xlabel('Impressions per Month')\n",
    "plt.ylabel('Frequency')\n",
    "plt.title('Impressions per Month Histogram')\n",
    "\n",
    "full_tweets['impressions_per_month'] = full_tweets['impression_count']/full_tweets['months_old']"
   ],
   "id": "de2d1f244baf353",
   "outputs": [
    {
     "data": {
      "text/plain": [
       "<Figure size 640x480 with 1 Axes>"
      ],
      "image/png": "[encoded data removed]"
     },
     "metadata": {},
     "output_type": "display_data",
     "jetTransient": {
      "display_id": null
     }
    }
   ],
   "execution_count": 19
  },
  {
   "metadata": {
    "ExecuteTime": {
     "end_time": "2025-10-27T15:56:54.116792Z",
     "start_time": "2025-10-27T15:56:54.099550Z"
    }
   },
   "cell_type": "code",
   "source": [
    "# calculate the externality per 1000 impressions per month\n",
    "full_tweets['ext_per_month'] = (full_tweets['externality'] *\n",
    "                                       full_tweets['impressions_per_month'] / 1000)\n",
    "\n",
    "# producer actions per month\n",
    "full_tweets['actions_per_month'] = full_tweets['action_count_per_1000_impressions']  * (full_tweets['impressions_per_month'] / 1000)\n",
    "\n",
    "print(full_tweets[['ext_per_month', 'actions_per_month']].describe())\n",
    "full_tweets['v_score'] = full_tweets['actions_per_month']\n",
    "full_tweets['e_score'] = full_tweets['ext_per_month']"
   ],
   "id": "885c7a9410c7afc7",
   "outputs": [
    {
     "name": "stdout",
     "output_type": "stream",
     "text": [
      "       ext_per_month  actions_per_month\n",
      "count   11853.000000       1.185300e+04\n",
      "mean     2601.170779       2.019944e+04\n",
      "std     20482.640044       6.284877e+04\n",
      "min   -592526.307636       3.105590e-01\n",
      "25%       766.903779       6.615058e+02\n",
      "50%      1903.169048       2.839052e+03\n",
      "75%      4706.854252       1.330448e+04\n",
      "max    558479.247750       1.611199e+06\n"
     ]
    }
   ],
   "execution_count": 21
  },
  {
   "metadata": {
    "ExecuteTime": {
     "end_time": "2025-10-27T15:56:59.501826Z",
     "start_time": "2025-10-27T15:56:59.284873Z"
    }
   },
   "cell_type": "code",
   "source": [
    "# --- Clean up ---\n",
    "full_tweets.to_csv('full_tweets.csv', index=False)\n",
    "cursor.close()\n",
    "db_connection.close()"
   ],
   "id": "37e942734e632aa",
   "outputs": [],
   "execution_count": 22
  }
 ],
 "metadata": {
  "kernelspec": {
   "display_name": "Python 3",
   "language": "python",
   "name": "python3"
  },
  "language_info": {
   "codemirror_mode": {
    "name": "ipython",
    "version": 2
   },
   "file_extension": ".py",
   "mimetype": "text/x-python",
   "name": "python",
   "nbconvert_exporter": "python",
   "pygments_lexer": "ipython2",
   "version": "2.7.6"
  }
 },
 "nbformat": 4,
 "nbformat_minor": 5
}
