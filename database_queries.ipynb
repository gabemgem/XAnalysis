{
 "cells": [
  {
   "cell_type": "code",
   "id": "initial_id",
   "metadata": {
    "collapsed": true,
    "ExecuteTime": {
     "end_time": "2025-02-02T03:16:12.204477Z",
     "start_time": "2025-02-02T03:16:12.200510Z"
    }
   },
   "source": [
    "import mysql.connector\n",
    "import pandas as pd\n",
    "import matplotlib.pyplot as plt\n",
    "import pickle as pkl\n",
    "\n",
    "# --- Database connection details ---\n",
    "DB_HOST = 'localhost'\n",
    "DB_USER = 'gmaayan'\n",
    "DB_PASSWORD = 'j.UyNY.3NsP6vrdfy3LNq.2f'\n",
    "DB_NAME = 'tweets'"
   ],
   "outputs": [],
   "execution_count": 42
  },
  {
   "metadata": {
    "ExecuteTime": {
     "end_time": "2025-02-02T18:22:31.469063Z",
     "start_time": "2025-02-02T18:22:31.457715Z"
    }
   },
   "cell_type": "code",
   "source": [
    "# --- Connect to the database ---\n",
    "db_connection = mysql.connector.connect(\n",
    "    host=DB_HOST,\n",
    "    user=DB_USER,\n",
    "    password=DB_PASSWORD,\n",
    "    database=DB_NAME,\n",
    "    charset=\"utf8mb4\",\n",
    "    collation=\"utf8mb4_unicode_ci\"\n",
    ")\n",
    "\n",
    "# Create a cursor object\n",
    "cursor = db_connection.cursor()"
   ],
   "id": "67c82ac150e74f81",
   "outputs": [],
   "execution_count": 57
  },
  {
   "metadata": {
    "ExecuteTime": {
     "end_time": "2025-02-02T01:18:14.885455Z",
     "start_time": "2025-02-02T01:16:46.830542Z"
    }
   },
   "cell_type": "code",
   "source": [
    "# --- Define your query ---\n",
    "query = \"\"\"\n",
    "SELECT\n",
    "  noteId,\n",
    "  COUNT(*) AS note_count\n",
    "FROM note_ratings\n",
    "WHERE helpfulnessLevel = HELPFUL\n",
    "GROUP BY noteId\n",
    "ORDER BY note_count DESC;\n",
    "\"\"\"\n",
    "\n",
    "# --- Execute the query ---\n",
    "cursor.execute(query)\n",
    "\n",
    "# Fetch all results\n",
    "results = cursor.fetchall()\n",
    "\n",
    "# store the results in a pandas dataframe\n",
    "df2 = pd.DataFrame(results, columns=['noteId', 'note_count'])\n",
    "\n",
    "print(df2.head())"
   ],
   "id": "75b09408a88dc124",
   "outputs": [
    {
     "name": "stdout",
     "output_type": "stream",
     "text": [
      "                noteId  note_count\n",
      "0  1681713296271892480       20086\n",
      "1  1727782563186618856       13309\n",
      "2  1649126162742771733       11414\n",
      "3  1661796202554294297       11334\n",
      "4  1641632910263431169        9662\n"
     ]
    }
   ],
   "execution_count": 24
  },
  {
   "metadata": {
    "ExecuteTime": {
     "end_time": "2025-02-02T19:40:43.057459Z",
     "start_time": "2025-02-02T19:40:43.053754Z"
    }
   },
   "cell_type": "code",
   "source": "print(df2.shape)",
   "id": "c6e125e57784eff6",
   "outputs": [
    {
     "name": "stdout",
     "output_type": "stream",
     "text": [
      "(1618339, 2)\n"
     ]
    }
   ],
   "execution_count": 77
  },
  {
   "metadata": {
    "ExecuteTime": {
     "end_time": "2025-02-02T01:13:45.382045Z",
     "start_time": "2025-02-02T01:13:45.219342Z"
    }
   },
   "cell_type": "code",
   "source": [
    "query = \"\"\"\n",
    "SELECT agree, disagree, helpfulnessLevel, helpful FROM note_ratings\n",
    "WHERE noteId = 1681713296271892480\n",
    "\"\"\"\n",
    "\n",
    "cursor.execute(query)\n",
    "results = cursor.fetchall()\n",
    "df3 = pd.DataFrame(results, columns=['agree', 'disagree', 'helpfulnessLevel', 'helpful'])\n",
    "\n",
    "# plot histogram of note counts\n",
    "plt.hist(df['note_count'], bins=100, color='blue')\n",
    "plt.show()"
   ],
   "id": "1855ae36d00333aa",
   "outputs": [
    {
     "data": {
      "text/plain": [
       "<Figure size 640x480 with 1 Axes>"
      ],
      "image/png": "[encoded data removed]"
     },
     "metadata": {},
     "output_type": "display_data"
    }
   ],
   "execution_count": 16
  },
  {
   "metadata": {
    "ExecuteTime": {
     "end_time": "2025-02-02T03:36:27.220570Z",
     "start_time": "2025-02-02T03:36:27.213575Z"
    }
   },
   "cell_type": "code",
   "source": [
    "print(df3.head())\n",
    "print(df3['helpfulnessLevel'].value_counts())"
   ],
   "id": "d4861f57720ab74e",
   "outputs": [
    {
     "name": "stdout",
     "output_type": "stream",
     "text": [
      "   agree  disagree helpfulnessLevel  helpful\n",
      "0      0         0          HELPFUL        0\n",
      "1      0         0          HELPFUL        0\n",
      "2      0         0          HELPFUL        0\n",
      "3      0         0          HELPFUL        0\n",
      "4      0         0          HELPFUL        0\n",
      "helpfulnessLevel\n",
      "HELPFUL             19629\n",
      "NOT_HELPFUL           344\n",
      "SOMEWHAT_HELPFUL      113\n",
      "Name: count, dtype: int64\n"
     ]
    }
   ],
   "execution_count": 51
  },
  {
   "metadata": {
    "ExecuteTime": {
     "end_time": "2025-02-02T01:21:16.874503Z",
     "start_time": "2025-02-02T01:21:16.869368Z"
    }
   },
   "cell_type": "code",
   "source": [
    "df4 = df2[df2['note_count'] > 500]\n",
    "print(df4.shape)"
   ],
   "id": "c2d3ab1864e9da36",
   "outputs": [
    {
     "name": "stdout",
     "output_type": "stream",
     "text": [
      "(33530, 2)\n"
     ]
    }
   ],
   "execution_count": 27
  },
  {
   "metadata": {
    "ExecuteTime": {
     "end_time": "2025-02-02T20:03:34.225708Z",
     "start_time": "2025-02-02T19:44:08.548537Z"
    }
   },
   "cell_type": "code",
   "source": [
    "query = \"\"\"\n",
    "SELECT \n",
    "  r.noteId,\n",
    "  n.tweetId,\n",
    "  COUNT(r.noteId) AS note_count\n",
    "FROM note_ratings AS r\n",
    "JOIN notes AS n \n",
    "    ON r.noteId = n.noteId\n",
    "WHERE r.helpfulnessLevel = 'HELPFUL'\n",
    "GROUP BY r.noteId, n.tweetId\n",
    "HAVING COUNT(r.noteId) > 400\n",
    "ORDER BY note_count DESC\n",
    "\"\"\"\n",
    "\n",
    "cursor.execute(query)\n",
    "results = cursor.fetchall()\n",
    "df5 = pd.DataFrame(results, columns=['noteId', 'tweetId', 'note_count'])\n",
    "print(df5.shape)\n",
    "print(df5.head())"
   ],
   "id": "9e6d67813f03d57f",
   "outputs": [
    {
     "name": "stdout",
     "output_type": "stream",
     "text": [
      "(20558, 3)\n",
      "                noteId              tweetId  note_count\n",
      "0  1681713296271892480  1672908357081124864       19629\n",
      "1  1727782563186618856  1727461993978667335       12294\n",
      "2  1649126162742771733  1649118738120048654       10161\n",
      "3  1742503434299838827  1742455903264129474        8813\n",
      "4  1819180232974254554  1819083423077880215        8700\n"
     ]
    }
   ],
   "execution_count": 79
  },
  {
   "metadata": {
    "ExecuteTime": {
     "end_time": "2025-02-02T20:55:28.034871Z",
     "start_time": "2025-02-02T20:55:28.014139Z"
    }
   },
   "cell_type": "code",
   "source": [
    "# get the top 50 tweetIds\n",
    "top_tweetIds = list(df5['tweetId'].unique())\n",
    "\n",
    "# save the top tweetIds to a pickle file\n",
    "with open('top_tweetIds.pkl', 'wb') as f:\n",
    "    pkl.dump(top_tweetIds, f)"
   ],
   "id": "e6c8729d54de3933",
   "outputs": [],
   "execution_count": 81
  },
  {
   "metadata": {
    "ExecuteTime": {
     "end_time": "2025-02-02T20:54:43.417999Z",
     "start_time": "2025-02-02T20:54:43.414109Z"
    }
   },
   "cell_type": "code",
   "source": "print(df5['tweetId'].unique().shape)",
   "id": "b4dbfa2c3aa0c23a",
   "outputs": [
    {
     "name": "stdout",
     "output_type": "stream",
     "text": [
      "(13683,)\n"
     ]
    }
   ],
   "execution_count": 80
  },
  {
   "metadata": {
    "ExecuteTime": {
     "end_time": "2025-02-02T03:22:50.155527Z",
     "start_time": "2025-02-02T03:22:50.151202Z"
    }
   },
   "cell_type": "code",
   "source": [
    "# get note ids for the top tweetIds\n",
    "# query = \"\"\"\n",
    "# SELECT id from tweets\n",
    "# \"\"\"\n",
    "# cursor.execute(query)\n",
    "# results = cursor.fetchall()\n",
    "# tweet_ids = list(results)\n",
    "# tweet_ids = [id[0] for id in tweet_ids]\n",
    "# print (tweet_ids)\n",
    "\n",
    "filtered_notes = df5[df5['tweetId'].isin(tweet_ids)]\n",
    "print(filtered_notes.shape)"
   ],
   "id": "f96a253109ee27c5",
   "outputs": [
    {
     "name": "stdout",
     "output_type": "stream",
     "text": [
      "(100, 3)\n"
     ]
    }
   ],
   "execution_count": 46
  },
  {
   "metadata": {
    "ExecuteTime": {
     "end_time": "2025-02-02T03:31:45.439357Z",
     "start_time": "2025-02-02T03:31:45.407124Z"
    }
   },
   "cell_type": "code",
   "source": [
    "# get full notes for the filtered notes\n",
    "placeholders = \", \".join([\"%s\"] * len(filtered_notes))\n",
    "query = f\"\"\"SELECT \n",
    "    noteId,\n",
    "    tweetId,\n",
    "    classification,\n",
    "    believable,\n",
    "    harmful,\n",
    "    misleadingOther,\n",
    "    misleadingFactualError,\n",
    "    misleadingManipulatedMedia,\n",
    "    misleadingOutdatedInformation,\n",
    "    misleadingMissingImportantContext,\n",
    "    misleadingUnverifiedClaimAsFact,\n",
    "    misleadingSatire,\n",
    "    notMisleadingOther,\n",
    "    notMisleadingFactuallyCorrect,\n",
    "    notMisleadingOutdatedButNotWhenWritten,\n",
    "    notMisleadingClearlySatire,\n",
    "    notMisleadingPersonalOpinion\n",
    "FROM notes WHERE noteId IN ({placeholders})\"\"\"\n",
    "cursor.execute(query, tuple(filtered_notes['noteId']))\n",
    "results = cursor.fetchall()\n",
    "full_notes = pd.DataFrame(results, columns=[\n",
    "    'noteId', \n",
    "    'tweetId', \n",
    "    'classification', \n",
    "    'believable', \n",
    "    'harmful', \n",
    "    'misleadingOther', \n",
    "    'misleadingFactualError', \n",
    "    'misleadingManipulatedMedia', \n",
    "    'misleadingOutdatedInformation', \n",
    "    'misleadingMissingImportantContext', \n",
    "    'misleadingUnverifiedClaimAsFact', \n",
    "    'misleadingSatire', \n",
    "    'notMisleadingOther', \n",
    "    'notMisleadingFactuallyCorrect', \n",
    "    'notMisleadingOutdatedButNotWhenWritten', \n",
    "    'notMisleadingClearlySatire', \n",
    "    'notMisleadingPersonalOpinion'\n",
    "])\n",
    "print(full_notes.shape)\n",
    "print(full_notes.head())"
   ],
   "id": "f98b2dd9522b4beb",
   "outputs": [
    {
     "name": "stdout",
     "output_type": "stream",
     "text": [
      "(100, 17)\n",
      "                noteId              tweetId  \\\n",
      "0  1590463688397430784  1528684321254608896   \n",
      "1  1603581631385817089  1603576251125362688   \n",
      "2  1614426356342833154  1614350513331470338   \n",
      "3  1618423074046578689  1618056920199200768   \n",
      "4  1641632910263431169  1641594971462541315   \n",
      "\n",
      "                          classification believable harmful  misleadingOther  \\\n",
      "0  MISINFORMED_OR_POTENTIALLY_MISLEADING                                   0   \n",
      "1  MISINFORMED_OR_POTENTIALLY_MISLEADING                                   0   \n",
      "2  MISINFORMED_OR_POTENTIALLY_MISLEADING                                   0   \n",
      "3  MISINFORMED_OR_POTENTIALLY_MISLEADING                                   0   \n",
      "4  MISINFORMED_OR_POTENTIALLY_MISLEADING                                   0   \n",
      "\n",
      "   misleadingFactualError  misleadingManipulatedMedia  \\\n",
      "0                       1                           0   \n",
      "1                       0                           0   \n",
      "2                       0                           0   \n",
      "3                       0                           0   \n",
      "4                       1                           0   \n",
      "\n",
      "   misleadingOutdatedInformation  misleadingMissingImportantContext  \\\n",
      "0                              0                                  0   \n",
      "1                              0                                  1   \n",
      "2                              0                                  1   \n",
      "3                              0                                  0   \n",
      "4                              0                                  1   \n",
      "\n",
      "   misleadingUnverifiedClaimAsFact  misleadingSatire  notMisleadingOther  \\\n",
      "0                                0                 1                   0   \n",
      "1                                0                 1                   0   \n",
      "2                                0                 0                   0   \n",
      "3                                0                 1                   0   \n",
      "4                                1                 0                   0   \n",
      "\n",
      "   notMisleadingFactuallyCorrect  notMisleadingOutdatedButNotWhenWritten  \\\n",
      "0                              0                                       0   \n",
      "1                              0                                       0   \n",
      "2                              0                                       0   \n",
      "3                              0                                       0   \n",
      "4                              0                                       0   \n",
      "\n",
      "   notMisleadingClearlySatire  notMisleadingPersonalOpinion  \n",
      "0                           0                             0  \n",
      "1                           0                             0  \n",
      "2                           0                             0  \n",
      "3                           0                             0  \n",
      "4                           0                             0  \n"
     ]
    }
   ],
   "execution_count": 47
  },
  {
   "metadata": {
    "ExecuteTime": {
     "end_time": "2025-02-02T03:34:19.547905Z",
     "start_time": "2025-02-02T03:34:19.540586Z"
    }
   },
   "cell_type": "code",
   "source": [
    "print(full_notes[full_notes['classification']=='NOT_MISLEADING'])\n",
    "print(full_notes[full_notes['tweetId'] == 1852946465850622228])"
   ],
   "id": "b75d7bb275206d94",
   "outputs": [
    {
     "name": "stdout",
     "output_type": "stream",
     "text": [
      "                 noteId              tweetId  classification believable  \\\n",
      "87  1853170559976399351  1852946465850622228  NOT_MISLEADING              \n",
      "\n",
      "   harmful  misleadingOther  misleadingFactualError  \\\n",
      "87                        0                       0   \n",
      "\n",
      "    misleadingManipulatedMedia  misleadingOutdatedInformation  \\\n",
      "87                           0                              0   \n",
      "\n",
      "    misleadingMissingImportantContext  misleadingUnverifiedClaimAsFact  \\\n",
      "87                                  0                                0   \n",
      "\n",
      "    misleadingSatire  notMisleadingOther  notMisleadingFactuallyCorrect  \\\n",
      "87                 0                   0                              1   \n",
      "\n",
      "    notMisleadingOutdatedButNotWhenWritten  notMisleadingClearlySatire  \\\n",
      "87                                       0                           0   \n",
      "\n",
      "    notMisleadingPersonalOpinion  \n",
      "87                             0  \n",
      "                 noteId              tweetId  \\\n",
      "87  1853170559976399351  1852946465850622228   \n",
      "88  1853298766222111218  1852946465850622228   \n",
      "\n",
      "                           classification believable harmful  misleadingOther  \\\n",
      "87                         NOT_MISLEADING                                   0   \n",
      "88  MISINFORMED_OR_POTENTIALLY_MISLEADING                                   0   \n",
      "\n",
      "    misleadingFactualError  misleadingManipulatedMedia  \\\n",
      "87                       0                           0   \n",
      "88                       1                           0   \n",
      "\n",
      "    misleadingOutdatedInformation  misleadingMissingImportantContext  \\\n",
      "87                              0                                  0   \n",
      "88                              0                                  0   \n",
      "\n",
      "    misleadingUnverifiedClaimAsFact  misleadingSatire  notMisleadingOther  \\\n",
      "87                                0                 0                   0   \n",
      "88                                0                 0                   0   \n",
      "\n",
      "    notMisleadingFactuallyCorrect  notMisleadingOutdatedButNotWhenWritten  \\\n",
      "87                              1                                       0   \n",
      "88                              0                                       0   \n",
      "\n",
      "    notMisleadingClearlySatire  notMisleadingPersonalOpinion  \n",
      "87                           0                             0  \n",
      "88                           0                             0  \n"
     ]
    }
   ],
   "execution_count": 50
  },
  {
   "metadata": {
    "ExecuteTime": {
     "end_time": "2025-02-02T03:38:02.041401Z",
     "start_time": "2025-02-02T03:38:00.928043Z"
    }
   },
   "cell_type": "code",
   "source": [
    "# get all ratings for the notes\n",
    "query = f\"\"\"SELECT \n",
    "    noteId,\n",
    "    raterParticipantId,\n",
    "    helpfulnessLevel,\n",
    "    ratedOnTweetId\n",
    "FROM note_ratings WHERE noteId IN ({placeholders})\"\"\"\n",
    "cursor.execute(query, tuple(filtered_notes['noteId']))\n",
    "results = cursor.fetchall()\n",
    "full_ratings = pd.DataFrame(results, columns=[\n",
    "    'noteId', \n",
    "    'raterParticipantId', \n",
    "    'helpfulnessLevel', \n",
    "    'ratedOnTweetId'\n",
    "])\n",
    "print(full_ratings.shape)\n",
    "print(full_ratings.head())"
   ],
   "id": "1c4d05b448965463",
   "outputs": [
    {
     "name": "stdout",
     "output_type": "stream",
     "text": [
      "(419580, 4)\n",
      "                noteId                                 raterParticipantId  \\\n",
      "0  1590463688397430784  0003AFB7D3568236C3C8509208C76BDA2B04A04BA33037...   \n",
      "1  1590463688397430784  000618D62D26469C059F4690178D06CB5483B122126D32...   \n",
      "2  1590463688397430784  0024F6A10A199C0F82E54B02006D7684E59E69BD02AC22...   \n",
      "3  1590463688397430784  0025DCB5E90CCF3EC7662396E5EC712CC0C5F909911795...   \n",
      "4  1590463688397430784  002A62303516D0CCE7BCBD143AE53FACB0FE03168AEA4E...   \n",
      "\n",
      "  helpfulnessLevel  ratedOnTweetId  \n",
      "0      NOT_HELPFUL              -1  \n",
      "1          HELPFUL              -1  \n",
      "2          HELPFUL              -1  \n",
      "3          HELPFUL              -1  \n",
      "4          HELPFUL              -1  \n"
     ]
    }
   ],
   "execution_count": 52
  },
  {
   "metadata": {
    "ExecuteTime": {
     "end_time": "2025-02-02T18:22:37.536577Z",
     "start_time": "2025-02-02T18:22:37.528969Z"
    }
   },
   "cell_type": "code",
   "source": [
    "# get all tweets\n",
    "query = f\"\"\"\n",
    "SELECT \n",
    "    id,\n",
    "    text,\n",
    "    created_at,\n",
    "    author_id,\n",
    "    retweet_count,\n",
    "    reply_count,\n",
    "    like_count,\n",
    "    quote_count,\n",
    "    bookmark_count,\n",
    "    impression_count,\n",
    "    interaction_score\n",
    "FROM tweets\n",
    "\"\"\"\n",
    "cursor.execute(query)\n",
    "results = cursor.fetchall()\n",
    "full_tweets = pd.DataFrame(results, columns=[\n",
    "    'id', \n",
    "    'text', \n",
    "    'created_at', \n",
    "    'author_id', \n",
    "    'retweet_count', \n",
    "    'reply_count', \n",
    "    'like_count', \n",
    "    'quote_count', \n",
    "    'bookmark_count', \n",
    "    'impression_count',\n",
    "    'interaction_score'\n",
    "])\n",
    "\n",
    "print(full_tweets.shape)\n",
    "print(full_tweets.head())"
   ],
   "id": "609daaad8ee7d75f",
   "outputs": [
    {
     "name": "stdout",
     "output_type": "stream",
     "text": [
      "(44, 11)\n",
      "                    id                                               text  \\\n",
      "0  1528684321254608896  Elon musk has changed Twitter like button from...   \n",
      "1  1603576251125362688                       I love Barbara Streisand lol   \n",
      "2  1607579099031302147                       Rebound bullet to kill enemy   \n",
      "3  1614350513331470338  NASA finds a perfectly cut, trillion-ton recta...   \n",
      "4  1618056920199200768  Welcome to @elonmusk’s Twitter where literal s...   \n",
      "\n",
      "           created_at            author_id  retweet_count  reply_count  \\\n",
      "0 2022-05-23 10:28:38            741052232           6964         8808   \n",
      "1 2022-12-16 02:22:25             44196397           6384        14135   \n",
      "2 2022-12-27 03:28:19  1100982077636280321           6742         3732   \n",
      "3 2023-01-14 19:55:30   750683331260321792          19872         4497   \n",
      "4 2023-01-25 01:23:26  1524149141835821057           1873        17429   \n",
      "\n",
      "   like_count  quote_count  bookmark_count  impression_count  \\\n",
      "0      650062         1435            1651                 0   \n",
      "1      106895         1845             731          30394373   \n",
      "2       81870         1386            1719         435840124   \n",
      "3      259324         4018            8105          48578186   \n",
      "4       43907         3218             670          17840812   \n",
      "\n",
      "   interaction_score  \n",
      "0                NaN  \n",
      "1           0.004277  \n",
      "2           0.000219  \n",
      "3           0.006089  \n",
      "4           0.003761  \n"
     ]
    }
   ],
   "execution_count": 58
  },
  {
   "metadata": {
    "ExecuteTime": {
     "end_time": "2025-02-02T18:22:46.360972Z",
     "start_time": "2025-02-02T18:22:46.204951Z"
    }
   },
   "cell_type": "code",
   "source": [
    "full_data = {\n",
    "    'notes': full_notes,\n",
    "    'ratings': full_ratings,\n",
    "    'tweets': full_tweets\n",
    "}\n",
    "\n",
    "with open('full_data.pkl', 'wb') as f:\n",
    "    pkl.dump(full_data, f)"
   ],
   "id": "d0e51809ec16cc53",
   "outputs": [],
   "execution_count": 59
  },
  {
   "metadata": {
    "ExecuteTime": {
     "end_time": "2025-02-02T18:31:38.457383Z",
     "start_time": "2025-02-02T18:31:37.772480Z"
    }
   },
   "cell_type": "code",
   "source": [
    "from sklearn.preprocessing import MinMaxScaler\n",
    "scaler = MinMaxScaler(feature_range=(0, 1))\n",
    "full_tweets[['scaled_interactions']] = scaler.fit_transform(full_tweets[['interaction_score']])\n",
    "\n",
    "print(full_tweets[['interaction_score', 'scaled_interactions']].describe())\n",
    "\n"
   ],
   "id": "a0e49aa91684b6d5",
   "outputs": [
    {
     "name": "stdout",
     "output_type": "stream",
     "text": [
      "                 id                     created_at     author_id  \\\n",
      "count  4.400000e+01                             44  4.400000e+01   \n",
      "mean   1.724683e+18  2023-11-15 06:57:13.227272448  4.568464e+17   \n",
      "min    1.528684e+18            2022-05-23 10:28:38  9.390910e+05   \n",
      "25%    1.653250e+18  2023-05-02 04:08:06.750000128  4.379837e+07   \n",
      "50%    1.720372e+18            2023-11-03 09:25:21  2.549563e+08   \n",
      "75%    1.817222e+18     2024-07-27 15:35:21.500000  1.100982e+18   \n",
      "max    1.870187e+18            2024-12-20 19:16:54  1.643343e+18   \n",
      "std    8.807566e+16                            NaN  6.374060e+17   \n",
      "\n",
      "       retweet_count   reply_count     like_count   quote_count  \\\n",
      "count      44.000000     44.000000      44.000000     44.000000   \n",
      "mean     8051.500000  11848.954545   88682.295455   7447.818182   \n",
      "min       284.000000      3.000000    2411.000000    304.000000   \n",
      "25%      1372.250000   1937.500000    6592.000000   2820.000000   \n",
      "50%      3370.500000   9540.500000   18949.500000   3823.000000   \n",
      "75%      6797.500000  16769.500000   75195.000000   7909.000000   \n",
      "max    121597.000000  56333.000000  841809.000000  63760.000000   \n",
      "std     18655.362873  13037.377765  174183.143305  11034.785797   \n",
      "\n",
      "       bookmark_count  impression_count  interaction_score  \n",
      "count       44.000000      4.400000e+01          43.000000  \n",
      "mean      3903.840909      5.967929e+07           0.003072  \n",
      "min        112.000000      0.000000e+00           0.000142  \n",
      "25%        892.000000      1.516482e+07           0.000885  \n",
      "50%       1513.500000      2.454922e+07           0.001536  \n",
      "75%       5467.000000      4.880195e+07           0.003858  \n",
      "max      31367.000000      5.025302e+08           0.022429  \n",
      "std       5976.550977      1.053793e+08           0.004036  \n",
      "       interaction_score  scaled_interactions\n",
      "count          43.000000            43.000000\n",
      "mean            0.003072             0.131432\n",
      "std             0.004036             0.181075\n",
      "min             0.000142             0.000000\n",
      "25%             0.000885             0.033302\n",
      "50%             0.001536             0.062538\n",
      "75%             0.003858             0.166702\n",
      "max             0.022429             1.000000\n"
     ]
    }
   ],
   "execution_count": 62
  },
  {
   "metadata": {
    "ExecuteTime": {
     "end_time": "2025-02-02T18:39:43.863600Z",
     "start_time": "2025-02-02T18:39:43.807996Z"
    }
   },
   "cell_type": "code",
   "source": [
    "# get ratings score for notes\n",
    "ratings_map = {\n",
    "    'HELPFUL': 1,\n",
    "    'SOMEWHAT_HELPFUL': 0,\n",
    "    'NOT_HELPFUL': -1\n",
    "}\n",
    "\n",
    "full_ratings['rating_score'] = full_ratings['helpfulnessLevel'].map(ratings_map)\n",
    "print(full_ratings[['helpfulnessLevel', 'rating_score']].describe())\n",
    "\n",
    "note_ratings = full_ratings[['noteId', 'rating_score']].groupby('noteId').mean().reset_index()\n",
    "# add note_ratings to full_notes\n",
    "full_notes = full_notes.merge(note_ratings, on='noteId', how='left')\n",
    "print(full_notes[['rating_score']].describe())"
   ],
   "id": "a7d89f7de2458a4b",
   "outputs": [
    {
     "name": "stdout",
     "output_type": "stream",
     "text": [
      "        rating_score\n",
      "count  419580.000000\n",
      "mean        0.821257\n",
      "std         0.554933\n",
      "min        -1.000000\n",
      "25%         1.000000\n",
      "50%         1.000000\n",
      "75%         1.000000\n",
      "max         1.000000\n",
      "       rating_score\n",
      "count    100.000000\n",
      "mean       0.750049\n",
      "std        0.216739\n",
      "min        0.074638\n",
      "25%        0.664701\n",
      "50%        0.822089\n",
      "75%        0.914141\n",
      "max        0.985006\n"
     ]
    }
   ],
   "execution_count": 64
  },
  {
   "metadata": {
    "ExecuteTime": {
     "end_time": "2025-02-02T18:46:26.555053Z",
     "start_time": "2025-02-02T18:46:26.549906Z"
    }
   },
   "cell_type": "code",
   "source": [
    "# check note types\n",
    "note_types = full_notes[\n",
    "    ['misleadingManipulatedMedia',\n",
    "     'misleadingMissingImportantContext',\n",
    "     'misleadingUnverifiedClaimAsFact',\n",
    "     'misleadingFactualError',\n",
    "     'misleadingOutdatedInformation',\n",
    "     'misleadingSatire',\n",
    "     'misleadingOther',\n",
    "     'notMisleadingOutdatedButNotWhenWritten',\n",
    "     'notMisleadingPersonalOpinion',\n",
    "     'notMisleadingClearlySatire',\n",
    "     'notMisleadingOther',\n",
    "     'notMisleadingFactuallyCorrect']].sum(axis=1)\n",
    "\n",
    "print(note_types.value_counts())"
   ],
   "id": "10045b1cf947fc6a",
   "outputs": [
    {
     "name": "stdout",
     "output_type": "stream",
     "text": [
      "1    49\n",
      "2    33\n",
      "3    12\n",
      "4     3\n",
      "5     2\n",
      "6     1\n",
      "Name: count, dtype: int64\n"
     ]
    }
   ],
   "execution_count": 65
  },
  {
   "metadata": {
    "ExecuteTime": {
     "end_time": "2025-02-02T19:09:53.529580Z",
     "start_time": "2025-02-02T19:09:53.516492Z"
    }
   },
   "cell_type": "code",
   "source": [
    "full_notes.loc[full_notes['misleadingManipulatedMedia'] == 1, 'misleadingManipulatedMedia'] = -3\n",
    "full_notes.loc[full_notes['misleadingMissingImportantContext'] == 1, 'misleadingMissingImportantContext'] = -3\n",
    "\n",
    "full_notes.loc[full_notes['misleadingUnverifiedClaimAsFact'] == 1, 'misleadingUnverifiedClaimAsFact'] = -2\n",
    "full_notes.loc[full_notes['misleadingFactualError'] == 1, 'misleadingFactualError'] = -2\n",
    "\n",
    "full_notes.loc[full_notes['misleadingOutdatedInformation'] == 1, 'misleadingOutdatedInformation'] = -1\n",
    "full_notes.loc[full_notes['misleadingSatire'] == 1, 'misleadingSatire'] = -1\n",
    "full_notes.loc[full_notes['misleadingOther'] == 1, 'misleadingOther'] = -1\n",
    "\n",
    "\n",
    "full_notes.loc[full_notes['notMisleadingOutdatedButNotWhenWritten'] == 1, 'notMisleadingOutdatedButNotWhenWritten'] = 1\n",
    "\n",
    "full_notes.loc[full_notes['notMisleadingPersonalOpinion'] == 1, 'notMisleadingPersonalOpinion'] = 2\n",
    "full_notes.loc[full_notes['notMisleadingClearlySatire'] == 1, 'notMisleadingClearlySatire'] = 2\n",
    "full_notes.loc[full_notes['notMisleadingOther'] == 1, 'notMisleadingOther'] = 2\n",
    "\n",
    "full_notes.loc[full_notes['notMisleadingFactuallyCorrect'] == 1, 'notMisleadingFactuallyCorrect'] = 3\n",
    "\n",
    "full_notes['type_min'] = full_notes[\n",
    "    ['misleadingManipulatedMedia',\n",
    "     'misleadingMissingImportantContext',\n",
    "     'misleadingUnverifiedClaimAsFact',\n",
    "     'misleadingFactualError',\n",
    "     'misleadingOutdatedInformation',\n",
    "     'misleadingSatire',\n",
    "     'misleadingOther',\n",
    "     'notMisleadingOutdatedButNotWhenWritten',\n",
    "     'notMisleadingPersonalOpinion',\n",
    "     'notMisleadingClearlySatire',\n",
    "     'notMisleadingOther',\n",
    "     'notMisleadingFactuallyCorrect']].min(axis=1)\n",
    "full_notes['externality'] = full_notes['type_min'] - full_notes['rating_score']\n",
    "\n",
    "scaler = MinMaxScaler(feature_range=(-1, 1))\n",
    "full_notes[['externality']] = scaler.fit_transform(full_notes[['externality']])\n",
    "print(full_notes[['externality']].describe())"
   ],
   "id": "a43cb897077b753f",
   "outputs": [
    {
     "name": "stdout",
     "output_type": "stream",
     "text": [
      "       externality\n",
      "count   100.000000\n",
      "mean     -0.643219\n",
      "std       0.434239\n",
      "min      -1.000000\n",
      "25%      -0.934709\n",
      "50%      -0.835489\n",
      "75%      -0.420113\n",
      "max       1.000000\n"
     ]
    }
   ],
   "execution_count": 68
  },
  {
   "metadata": {
    "ExecuteTime": {
     "end_time": "2025-02-02T19:14:33.500035Z",
     "start_time": "2025-02-02T19:14:33.490447Z"
    }
   },
   "cell_type": "code",
   "source": [
    "# add the notes score to the tweets\n",
    "notes_score_by_tweet = full_notes[['tweetId', 'externality']].groupby('tweetId').mean().reset_index()\n",
    "full_tweets = full_tweets.merge(notes_score_by_tweet, left_on='id', right_on='tweetId', how='left')\n",
    "print(full_tweets[['scaled_interactions','externality']].describe())"
   ],
   "id": "da0b87a88042e2a5",
   "outputs": [
    {
     "name": "stdout",
     "output_type": "stream",
     "text": [
      "       interaction_score  externality\n",
      "count          43.000000    44.000000\n",
      "mean            0.003072    -0.682528\n",
      "std             0.004036     0.342551\n",
      "min             0.000142    -1.000000\n",
      "25%             0.000885    -0.937030\n",
      "50%             0.001536    -0.849356\n",
      "75%             0.003858    -0.426253\n",
      "max             0.022429     0.324555\n"
     ]
    }
   ],
   "execution_count": 72
  },
  {
   "metadata": {
    "ExecuteTime": {
     "end_time": "2025-02-02T19:20:01.502905Z",
     "start_time": "2025-02-02T19:20:01.424810Z"
    }
   },
   "cell_type": "code",
   "source": [
    "# plot scaled interactions vs externality\n",
    "\n",
    "fig, ax = plt.subplots()\n",
    "\n",
    "ax.scatter(full_tweets['externality'], full_tweets['scaled_interactions'])\n",
    "ax.set_xlabel('Externality')\n",
    "ax.set_ylabel('Interaction Score')\n",
    "ax.set_title('Tweet Interaction Score vs Externality')\n",
    "\n",
    "# Move the left spine (which is normally at x=min) to x=0\n",
    "ax.spines['left'].set_position('zero')\n",
    "# Hide the right spine\n",
    "ax.spines['right'].set_color('none')\n",
    "\n",
    "# If you also want the x-axis drawn at y=0, do likewise:\n",
    "ax.spines['bottom'].set_position('zero')\n",
    "ax.spines['top'].set_color('none')\n",
    "\n",
    "# Set tick positions so they show on the moved spines\n",
    "ax.xaxis.set_ticks_position('bottom')\n",
    "ax.yaxis.set_ticks_position('left')\n",
    "\n",
    "plt.show()"
   ],
   "id": "563e5ed74b771da9",
   "outputs": [
    {
     "data": {
      "text/plain": [
       "<Figure size 640x480 with 1 Axes>"
      ],
      "image/png": "[encoded data removed]"
     },
     "metadata": {},
     "output_type": "display_data"
    }
   ],
   "execution_count": 76
  },
  {
   "metadata": {
    "ExecuteTime": {
     "end_time": "2025-02-02T03:42:19.511355Z",
     "start_time": "2025-02-02T03:42:19.508071Z"
    }
   },
   "cell_type": "code",
   "source": [
    "# --- Clean up ---\n",
    "cursor.close()\n",
    "db_connection.close()"
   ],
   "id": "45286fd0c4907ade",
   "outputs": [],
   "execution_count": 55
  }
 ],
 "metadata": {
  "kernelspec": {
   "display_name": "Python 3",
   "language": "python",
   "name": "python3"
  },
  "language_info": {
   "codemirror_mode": {
    "name": "ipython",
    "version": 2
   },
   "file_extension": ".py",
   "mimetype": "text/x-python",
   "name": "python",
   "nbconvert_exporter": "python",
   "pygments_lexer": "ipython2",
   "version": "2.7.6"
  }
 },
 "nbformat": 4,
 "nbformat_minor": 5
}
