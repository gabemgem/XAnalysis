{
 "cells": [
  {
   "cell_type": "code",
   "id": "initial_id",
   "metadata": {
    "collapsed": true,
    "ExecuteTime": {
     "end_time": "2025-02-02T03:16:12.204477Z",
     "start_time": "2025-02-02T03:16:12.200510Z"
    }
   },
   "source": [
    "import mysql.connector\n",
    "import pandas as pd\n",
    "import matplotlib.pyplot as plt\n",
    "import pickle as pkl\n",
    "\n",
    "# --- Database connection details ---\n",
    "DB_HOST = 'localhost'\n",
    "DB_USER = 'gmaayan'\n",
    "DB_PASSWORD = 'j.UyNY.3NsP6vrdfy3LNq.2f'\n",
    "DB_NAME = 'tweets'"
   ],
   "outputs": [],
   "execution_count": 42
  },
  {
   "metadata": {
    "ExecuteTime": {
     "end_time": "2025-02-02T03:16:14.103180Z",
     "start_time": "2025-02-02T03:16:14.092920Z"
    }
   },
   "cell_type": "code",
   "source": [
    "# --- Connect to the database ---\n",
    "db_connection = mysql.connector.connect(\n",
    "    host=DB_HOST,\n",
    "    user=DB_USER,\n",
    "    password=DB_PASSWORD,\n",
    "    database=DB_NAME,\n",
    "    charset=\"utf8mb4\",\n",
    "    collation=\"utf8mb4_unicode_ci\"\n",
    ")\n",
    "\n",
    "# Create a cursor object\n",
    "cursor = db_connection.cursor()"
   ],
   "id": "67c82ac150e74f81",
   "outputs": [],
   "execution_count": 43
  },
  {
   "metadata": {
    "ExecuteTime": {
     "end_time": "2025-02-02T01:18:14.885455Z",
     "start_time": "2025-02-02T01:16:46.830542Z"
    }
   },
   "cell_type": "code",
   "source": [
    "# --- Define your query ---\n",
    "query = \"\"\"\n",
    "SELECT\n",
    "  noteId,\n",
    "  COUNT(*) AS note_count\n",
    "FROM note_ratings\n",
    "WHERE helpfulnessLevel = HELPFUL\n",
    "GROUP BY noteId\n",
    "ORDER BY note_count DESC;\n",
    "\"\"\"\n",
    "\n",
    "# --- Execute the query ---\n",
    "cursor.execute(query)\n",
    "\n",
    "# Fetch all results\n",
    "results = cursor.fetchall()\n",
    "\n",
    "# store the results in a pandas dataframe\n",
    "df2 = pd.DataFrame(results, columns=['noteId', 'note_count'])\n",
    "\n",
    "print(df2.head())"
   ],
   "id": "75b09408a88dc124",
   "outputs": [
    {
     "name": "stdout",
     "output_type": "stream",
     "text": [
      "                noteId  note_count\n",
      "0  1681713296271892480       20086\n",
      "1  1727782563186618856       13309\n",
      "2  1649126162742771733       11414\n",
      "3  1661796202554294297       11334\n",
      "4  1641632910263431169        9662\n"
     ]
    }
   ],
   "execution_count": 24
  },
  {
   "metadata": {
    "ExecuteTime": {
     "end_time": "2025-02-02T01:19:26.971600Z",
     "start_time": "2025-02-02T01:19:26.967067Z"
    }
   },
   "cell_type": "code",
   "source": [
    "print(df.head())\n",
    "print(df.equals(df2))"
   ],
   "id": "c6e125e57784eff6",
   "outputs": [
    {
     "name": "stdout",
     "output_type": "stream",
     "text": [
      "               note_id  note_count\n",
      "0  1681713296271892480       20086\n",
      "1  1727782563186618856       13309\n",
      "2  1649126162742771733       11414\n",
      "3  1661796202554294297       11334\n",
      "4  1641632910263431169        9662\n",
      "False\n"
     ]
    }
   ],
   "execution_count": 25
  },
  {
   "metadata": {
    "ExecuteTime": {
     "end_time": "2025-02-02T01:13:45.382045Z",
     "start_time": "2025-02-02T01:13:45.219342Z"
    }
   },
   "cell_type": "code",
   "source": [
    "query = \"\"\"\n",
    "SELECT agree, disagree, helpfulnessLevel, helpful FROM note_ratings\n",
    "WHERE noteId = 1681713296271892480\n",
    "\"\"\"\n",
    "\n",
    "cursor.execute(query)\n",
    "results = cursor.fetchall()\n",
    "df3 = pd.DataFrame(results, columns=['agree', 'disagree', 'helpfulnessLevel', 'helpful'])\n",
    "\n",
    "# plot histogram of note counts\n",
    "plt.hist(df['note_count'], bins=100, color='blue')\n",
    "plt.show()"
   ],
   "id": "1855ae36d00333aa",
   "outputs": [
    {
     "data": {
      "text/plain": [
       "<Figure size 640x480 with 1 Axes>"
      ],
      "image/png": "[encoded data removed]"
     },
     "metadata": {},
     "output_type": "display_data"
    }
   ],
   "execution_count": 16
  },
  {
   "metadata": {
    "ExecuteTime": {
     "end_time": "2025-02-02T03:36:27.220570Z",
     "start_time": "2025-02-02T03:36:27.213575Z"
    }
   },
   "cell_type": "code",
   "source": [
    "print(df3.head())\n",
    "print(df3['helpfulnessLevel'].value_counts())"
   ],
   "id": "d4861f57720ab74e",
   "outputs": [
    {
     "name": "stdout",
     "output_type": "stream",
     "text": [
      "   agree  disagree helpfulnessLevel  helpful\n",
      "0      0         0          HELPFUL        0\n",
      "1      0         0          HELPFUL        0\n",
      "2      0         0          HELPFUL        0\n",
      "3      0         0          HELPFUL        0\n",
      "4      0         0          HELPFUL        0\n",
      "helpfulnessLevel\n",
      "HELPFUL             19629\n",
      "NOT_HELPFUL           344\n",
      "SOMEWHAT_HELPFUL      113\n",
      "Name: count, dtype: int64\n"
     ]
    }
   ],
   "execution_count": 51
  },
  {
   "metadata": {
    "ExecuteTime": {
     "end_time": "2025-02-02T01:21:16.874503Z",
     "start_time": "2025-02-02T01:21:16.869368Z"
    }
   },
   "cell_type": "code",
   "source": [
    "df4 = df2[df2['note_count'] > 500]\n",
    "print(df4.shape)"
   ],
   "id": "c2d3ab1864e9da36",
   "outputs": [
    {
     "name": "stdout",
     "output_type": "stream",
     "text": [
      "(33530, 2)\n"
     ]
    }
   ],
   "execution_count": 27
  },
  {
   "metadata": {
    "ExecuteTime": {
     "end_time": "2025-02-02T02:21:22.926238Z",
     "start_time": "2025-02-02T02:01:21.375769Z"
    }
   },
   "cell_type": "code",
   "source": [
    "query = \"\"\"\n",
    "SELECT \n",
    "  r.noteId,\n",
    "  n.tweetId,\n",
    "  COUNT(r.noteId) AS note_count\n",
    "FROM note_ratings AS r\n",
    "JOIN notes AS n \n",
    "    ON r.noteId = n.noteId\n",
    "WHERE r.helpfulnessLevel = 'HELPFUL'\n",
    "GROUP BY r.noteId, n.tweetId\n",
    "HAVING COUNT(r.noteId) > 500\n",
    "ORDER BY note_count DESC\n",
    "\"\"\"\n",
    "\n",
    "cursor.execute(query)\n",
    "results = cursor.fetchall()\n",
    "df5 = pd.DataFrame(results, columns=['noteId', 'tweetId', 'note_count'])\n",
    "print(df5.shape)\n",
    "print(df5.head())"
   ],
   "id": "9e6d67813f03d57f",
   "outputs": [
    {
     "name": "stdout",
     "output_type": "stream",
     "text": [
      "(13392, 3)\n",
      "                noteId              tweetId  note_count\n",
      "0  1681713296271892480  1672908357081124864       19629\n",
      "1  1727782563186618856  1727461993978667335       12294\n",
      "2  1649126162742771733  1649118738120048654       10161\n",
      "3  1742503434299838827  1742455903264129474        8813\n",
      "4  1819180232974254554  1819083423077880215        8700\n"
     ]
    }
   ],
   "execution_count": 35
  },
  {
   "metadata": {
    "ExecuteTime": {
     "end_time": "2025-02-02T02:41:06.051989Z",
     "start_time": "2025-02-02T02:41:06.046032Z"
    }
   },
   "cell_type": "code",
   "source": [
    "# get the top 50 tweetIds\n",
    "top_tweetIds = list(df5['tweetId'].unique()[:50])\n",
    "print(top_tweetIds)\n",
    "\n",
    "# save the top tweetIds to a pickle file\n",
    "with open('top_50_tweetIds.pkl', 'wb') as f:\n",
    "    pkl.dump(top_tweetIds, f)"
   ],
   "id": "e6c8729d54de3933",
   "outputs": [
    {
     "name": "stdout",
     "output_type": "stream",
     "text": [
      "[np.int64(1672908357081124864), np.int64(1727461993978667335), np.int64(1649118738120048654), np.int64(1742455903264129474), np.int64(1819083423077880215), np.int64(1641594971462541315), np.int64(1830610182612881485), np.int64(1661493777247219720), np.int64(1730650140229201949), np.int64(1722550698783437278), np.int64(1703865457285939214), np.int64(1528684321254608896), np.int64(1676508717913628672), np.int64(1677613752932503552), np.int64(1847261358221353316), np.int64(1728535065242612184), np.int64(1847715919117906368), np.int64(1870186633749754100), np.int64(1669705153316880385), np.int64(1647352302171308036), np.int64(1711793142742073573), np.int64(1680808901187620865), np.int64(1738299969113600298), np.int64(1852946465850622228), np.int64(1854247807735214298), np.int64(1728644198465712517), np.int64(1614350513331470338), np.int64(1607579099031302147), np.int64(1652812349605306368), np.int64(1816601862654586964), np.int64(1653395865862561793), np.int64(1632061089495101440), np.int64(1824485404248035840), np.int64(1603576251125362688), np.int64(1714346975326330957), np.int64(1651685293731246098), np.int64(1816078350659494130), np.int64(1692558414105186796), np.int64(1858186528725373080), np.int64(1752325184156205565), np.int64(1823639305807429838), np.int64(1618056920199200768), np.int64(1792423758256361895), np.int64(1730247565537390998), np.int64(1718192456838107162), np.int64(1726609880986083685), np.int64(1828558004301508855), np.int64(1722561334858961025), np.int64(1669843546919124992), np.int64(1846605254864888180)]\n"
     ]
    }
   ],
   "execution_count": 38
  },
  {
   "metadata": {
    "ExecuteTime": {
     "end_time": "2025-02-02T03:22:50.155527Z",
     "start_time": "2025-02-02T03:22:50.151202Z"
    }
   },
   "cell_type": "code",
   "source": [
    "# get note ids for the top tweetIds\n",
    "# query = \"\"\"\n",
    "# SELECT id from tweets\n",
    "# \"\"\"\n",
    "# cursor.execute(query)\n",
    "# results = cursor.fetchall()\n",
    "# tweet_ids = list(results)\n",
    "# tweet_ids = [id[0] for id in tweet_ids]\n",
    "# print (tweet_ids)\n",
    "\n",
    "filtered_notes = df5[df5['tweetId'].isin(tweet_ids)]\n",
    "print(filtered_notes.shape)"
   ],
   "id": "f96a253109ee27c5",
   "outputs": [
    {
     "name": "stdout",
     "output_type": "stream",
     "text": [
      "(100, 3)\n"
     ]
    }
   ],
   "execution_count": 46
  },
  {
   "metadata": {
    "ExecuteTime": {
     "end_time": "2025-02-02T03:31:45.439357Z",
     "start_time": "2025-02-02T03:31:45.407124Z"
    }
   },
   "cell_type": "code",
   "source": [
    "# get full notes for the filtered notes\n",
    "placeholders = \", \".join([\"%s\"] * len(filtered_notes))\n",
    "query = f\"\"\"SELECT \n",
    "    noteId,\n",
    "    tweetId,\n",
    "    classification,\n",
    "    believable,\n",
    "    harmful,\n",
    "    misleadingOther,\n",
    "    misleadingFactualError,\n",
    "    misleadingManipulatedMedia,\n",
    "    misleadingOutdatedInformation,\n",
    "    misleadingMissingImportantContext,\n",
    "    misleadingUnverifiedClaimAsFact,\n",
    "    misleadingSatire,\n",
    "    notMisleadingOther,\n",
    "    notMisleadingFactuallyCorrect,\n",
    "    notMisleadingOutdatedButNotWhenWritten,\n",
    "    notMisleadingClearlySatire,\n",
    "    notMisleadingPersonalOpinion\n",
    "FROM notes WHERE noteId IN ({placeholders})\"\"\"\n",
    "cursor.execute(query, tuple(filtered_notes['noteId']))\n",
    "results = cursor.fetchall()\n",
    "full_notes = pd.DataFrame(results, columns=[\n",
    "    'noteId', \n",
    "    'tweetId', \n",
    "    'classification', \n",
    "    'believable', \n",
    "    'harmful', \n",
    "    'misleadingOther', \n",
    "    'misleadingFactualError', \n",
    "    'misleadingManipulatedMedia', \n",
    "    'misleadingOutdatedInformation', \n",
    "    'misleadingMissingImportantContext', \n",
    "    'misleadingUnverifiedClaimAsFact', \n",
    "    'misleadingSatire', \n",
    "    'notMisleadingOther', \n",
    "    'notMisleadingFactuallyCorrect', \n",
    "    'notMisleadingOutdatedButNotWhenWritten', \n",
    "    'notMisleadingClearlySatire', \n",
    "    'notMisleadingPersonalOpinion'\n",
    "])\n",
    "print(full_notes.shape)\n",
    "print(full_notes.head())"
   ],
   "id": "f98b2dd9522b4beb",
   "outputs": [
    {
     "name": "stdout",
     "output_type": "stream",
     "text": [
      "(100, 17)\n",
      "                noteId              tweetId  \\\n",
      "0  1590463688397430784  1528684321254608896   \n",
      "1  1603581631385817089  1603576251125362688   \n",
      "2  1614426356342833154  1614350513331470338   \n",
      "3  1618423074046578689  1618056920199200768   \n",
      "4  1641632910263431169  1641594971462541315   \n",
      "\n",
      "                          classification believable harmful  misleadingOther  \\\n",
      "0  MISINFORMED_OR_POTENTIALLY_MISLEADING                                   0   \n",
      "1  MISINFORMED_OR_POTENTIALLY_MISLEADING                                   0   \n",
      "2  MISINFORMED_OR_POTENTIALLY_MISLEADING                                   0   \n",
      "3  MISINFORMED_OR_POTENTIALLY_MISLEADING                                   0   \n",
      "4  MISINFORMED_OR_POTENTIALLY_MISLEADING                                   0   \n",
      "\n",
      "   misleadingFactualError  misleadingManipulatedMedia  \\\n",
      "0                       1                           0   \n",
      "1                       0                           0   \n",
      "2                       0                           0   \n",
      "3                       0                           0   \n",
      "4                       1                           0   \n",
      "\n",
      "   misleadingOutdatedInformation  misleadingMissingImportantContext  \\\n",
      "0                              0                                  0   \n",
      "1                              0                                  1   \n",
      "2                              0                                  1   \n",
      "3                              0                                  0   \n",
      "4                              0                                  1   \n",
      "\n",
      "   misleadingUnverifiedClaimAsFact  misleadingSatire  notMisleadingOther  \\\n",
      "0                                0                 1                   0   \n",
      "1                                0                 1                   0   \n",
      "2                                0                 0                   0   \n",
      "3                                0                 1                   0   \n",
      "4                                1                 0                   0   \n",
      "\n",
      "   notMisleadingFactuallyCorrect  notMisleadingOutdatedButNotWhenWritten  \\\n",
      "0                              0                                       0   \n",
      "1                              0                                       0   \n",
      "2                              0                                       0   \n",
      "3                              0                                       0   \n",
      "4                              0                                       0   \n",
      "\n",
      "   notMisleadingClearlySatire  notMisleadingPersonalOpinion  \n",
      "0                           0                             0  \n",
      "1                           0                             0  \n",
      "2                           0                             0  \n",
      "3                           0                             0  \n",
      "4                           0                             0  \n"
     ]
    }
   ],
   "execution_count": 47
  },
  {
   "metadata": {
    "ExecuteTime": {
     "end_time": "2025-02-02T03:34:19.547905Z",
     "start_time": "2025-02-02T03:34:19.540586Z"
    }
   },
   "cell_type": "code",
   "source": [
    "print(full_notes[full_notes['classification']=='NOT_MISLEADING'])\n",
    "print(full_notes[full_notes['tweetId'] == 1852946465850622228])"
   ],
   "id": "b75d7bb275206d94",
   "outputs": [
    {
     "name": "stdout",
     "output_type": "stream",
     "text": [
      "                 noteId              tweetId  classification believable  \\\n",
      "87  1853170559976399351  1852946465850622228  NOT_MISLEADING              \n",
      "\n",
      "   harmful  misleadingOther  misleadingFactualError  \\\n",
      "87                        0                       0   \n",
      "\n",
      "    misleadingManipulatedMedia  misleadingOutdatedInformation  \\\n",
      "87                           0                              0   \n",
      "\n",
      "    misleadingMissingImportantContext  misleadingUnverifiedClaimAsFact  \\\n",
      "87                                  0                                0   \n",
      "\n",
      "    misleadingSatire  notMisleadingOther  notMisleadingFactuallyCorrect  \\\n",
      "87                 0                   0                              1   \n",
      "\n",
      "    notMisleadingOutdatedButNotWhenWritten  notMisleadingClearlySatire  \\\n",
      "87                                       0                           0   \n",
      "\n",
      "    notMisleadingPersonalOpinion  \n",
      "87                             0  \n",
      "                 noteId              tweetId  \\\n",
      "87  1853170559976399351  1852946465850622228   \n",
      "88  1853298766222111218  1852946465850622228   \n",
      "\n",
      "                           classification believable harmful  misleadingOther  \\\n",
      "87                         NOT_MISLEADING                                   0   \n",
      "88  MISINFORMED_OR_POTENTIALLY_MISLEADING                                   0   \n",
      "\n",
      "    misleadingFactualError  misleadingManipulatedMedia  \\\n",
      "87                       0                           0   \n",
      "88                       1                           0   \n",
      "\n",
      "    misleadingOutdatedInformation  misleadingMissingImportantContext  \\\n",
      "87                              0                                  0   \n",
      "88                              0                                  0   \n",
      "\n",
      "    misleadingUnverifiedClaimAsFact  misleadingSatire  notMisleadingOther  \\\n",
      "87                                0                 0                   0   \n",
      "88                                0                 0                   0   \n",
      "\n",
      "    notMisleadingFactuallyCorrect  notMisleadingOutdatedButNotWhenWritten  \\\n",
      "87                              1                                       0   \n",
      "88                              0                                       0   \n",
      "\n",
      "    notMisleadingClearlySatire  notMisleadingPersonalOpinion  \n",
      "87                           0                             0  \n",
      "88                           0                             0  \n"
     ]
    }
   ],
   "execution_count": 50
  },
  {
   "metadata": {
    "ExecuteTime": {
     "end_time": "2025-02-02T03:38:02.041401Z",
     "start_time": "2025-02-02T03:38:00.928043Z"
    }
   },
   "cell_type": "code",
   "source": [
    "# get all ratings for the notes\n",
    "query = f\"\"\"SELECT \n",
    "    noteId,\n",
    "    raterParticipantId,\n",
    "    helpfulnessLevel,\n",
    "    ratedOnTweetId\n",
    "FROM note_ratings WHERE noteId IN ({placeholders})\"\"\"\n",
    "cursor.execute(query, tuple(filtered_notes['noteId']))\n",
    "results = cursor.fetchall()\n",
    "full_ratings = pd.DataFrame(results, columns=[\n",
    "    'noteId', \n",
    "    'raterParticipantId', \n",
    "    'helpfulnessLevel', \n",
    "    'ratedOnTweetId'\n",
    "])\n",
    "print(full_ratings.shape)\n",
    "print(full_ratings.head())"
   ],
   "id": "1c4d05b448965463",
   "outputs": [
    {
     "name": "stdout",
     "output_type": "stream",
     "text": [
      "(419580, 4)\n",
      "                noteId                                 raterParticipantId  \\\n",
      "0  1590463688397430784  0003AFB7D3568236C3C8509208C76BDA2B04A04BA33037...   \n",
      "1  1590463688397430784  000618D62D26469C059F4690178D06CB5483B122126D32...   \n",
      "2  1590463688397430784  0024F6A10A199C0F82E54B02006D7684E59E69BD02AC22...   \n",
      "3  1590463688397430784  0025DCB5E90CCF3EC7662396E5EC712CC0C5F909911795...   \n",
      "4  1590463688397430784  002A62303516D0CCE7BCBD143AE53FACB0FE03168AEA4E...   \n",
      "\n",
      "  helpfulnessLevel  ratedOnTweetId  \n",
      "0      NOT_HELPFUL              -1  \n",
      "1          HELPFUL              -1  \n",
      "2          HELPFUL              -1  \n",
      "3          HELPFUL              -1  \n",
      "4          HELPFUL              -1  \n"
     ]
    }
   ],
   "execution_count": 52
  },
  {
   "metadata": {
    "ExecuteTime": {
     "end_time": "2025-02-02T03:41:33.986634Z",
     "start_time": "2025-02-02T03:41:33.964832Z"
    }
   },
   "cell_type": "code",
   "source": [
    "# get all tweets\n",
    "query = f\"\"\"\n",
    "SELECT \n",
    "    id,\n",
    "    text,\n",
    "    created_at,\n",
    "    author_id,\n",
    "    retweet_count,\n",
    "    reply_count,\n",
    "    like_count,\n",
    "    quote_count,\n",
    "    bookmark_count,\n",
    "    impression_count\n",
    "FROM tweets\n",
    "\"\"\"\n",
    "cursor.execute(query)\n",
    "results = cursor.fetchall()\n",
    "full_tweets = pd.DataFrame(results, columns=[\n",
    "    'id', \n",
    "    'text', \n",
    "    'created_at', \n",
    "    'author_id', \n",
    "    'retweet_count', \n",
    "    'reply_count', \n",
    "    'like_count', \n",
    "    'quote_count', \n",
    "    'bookmark_count', \n",
    "    'impression_count'\n",
    "])\n",
    "\n",
    "print(full_tweets.shape)\n",
    "print(full_tweets.head())"
   ],
   "id": "609daaad8ee7d75f",
   "outputs": [
    {
     "name": "stdout",
     "output_type": "stream",
     "text": [
      "(44, 10)\n",
      "                    id                                               text  \\\n",
      "0  1528684321254608896  Elon musk has changed Twitter like button from...   \n",
      "1  1603576251125362688                       I love Barbara Streisand lol   \n",
      "2  1607579099031302147                       Rebound bullet to kill enemy   \n",
      "3  1614350513331470338  NASA finds a perfectly cut, trillion-ton recta...   \n",
      "4  1618056920199200768  Welcome to @elonmusk’s Twitter where literal s...   \n",
      "\n",
      "           created_at            author_id  retweet_count  reply_count  \\\n",
      "0 2022-05-23 10:28:38            741052232           6964         8808   \n",
      "1 2022-12-16 02:22:25             44196397           6384        14135   \n",
      "2 2022-12-27 03:28:19  1100982077636280321           6742         3732   \n",
      "3 2023-01-14 19:55:30   750683331260321792          19872         4497   \n",
      "4 2023-01-25 01:23:26  1524149141835821057           1873        17429   \n",
      "\n",
      "   like_count  quote_count  bookmark_count  impression_count  \n",
      "0      650062         1435            1651                 0  \n",
      "1      106895         1845             731          30394373  \n",
      "2       81870         1386            1719         435840124  \n",
      "3      259324         4018            8105          48578186  \n",
      "4       43907         3218             670          17840812  \n"
     ]
    }
   ],
   "execution_count": 53
  },
  {
   "metadata": {
    "ExecuteTime": {
     "end_time": "2025-02-02T03:42:04.261472Z",
     "start_time": "2025-02-02T03:42:04.105776Z"
    }
   },
   "cell_type": "code",
   "source": [
    "full_data = {\n",
    "    'notes': full_notes,\n",
    "    'ratings': full_ratings,\n",
    "    'tweets': full_tweets\n",
    "}\n",
    "\n",
    "with open('full_data.pkl', 'wb') as f:\n",
    "    pkl.dump(full_data, f)"
   ],
   "id": "d0e51809ec16cc53",
   "outputs": [],
   "execution_count": 54
  },
  {
   "metadata": {
    "ExecuteTime": {
     "end_time": "2025-02-02T03:42:19.511355Z",
     "start_time": "2025-02-02T03:42:19.508071Z"
    }
   },
   "cell_type": "code",
   "source": [
    "# --- Clean up ---\n",
    "cursor.close()\n",
    "db_connection.close()"
   ],
   "id": "45286fd0c4907ade",
   "outputs": [],
   "execution_count": 55
  }
 ],
 "metadata": {
  "kernelspec": {
   "display_name": "Python 3",
   "language": "python",
   "name": "python3"
  },
  "language_info": {
   "codemirror_mode": {
    "name": "ipython",
    "version": 2
   },
   "file_extension": ".py",
   "mimetype": "text/x-python",
   "name": "python",
   "nbconvert_exporter": "python",
   "pygments_lexer": "ipython2",
   "version": "2.7.6"
  }
 },
 "nbformat": 4,
 "nbformat_minor": 5
}
