{
 "cells": [
  {
   "cell_type": "code",
   "id": "initial_id",
   "metadata": {
    "collapsed": true,
    "ExecuteTime": {
     "end_time": "2025-02-02T23:24:02.480197Z",
     "start_time": "2025-02-02T23:24:02.476743Z"
    }
   },
   "source": [
    "import tweepy\n",
    "import json\n",
    "import pickle as pkl\n",
    "import mysql.connector\n",
    "from tqdm import tqdm\n",
    "import time"
   ],
   "outputs": [],
   "execution_count": 9
  },
  {
   "metadata": {
    "ExecuteTime": {
     "end_time": "2025-02-02T23:21:08.499659Z",
     "start_time": "2025-02-02T23:21:08.480660Z"
    }
   },
   "cell_type": "code",
   "source": [
    "# Twitter API credentials\n",
    "bearer_token = \"AAAAAAAAAAAAAAAAAAAAAEeQyQEAAAAAz7RyNP5HHBjnPkdJap%2Fb%2Bna78Dc%3D1czDzE57XZmVW65ezR9d1lGIfIRZQwyQ6EUL0xZYSQy80AZiES\"\n",
    "\n",
    "# Create API client\n",
    "client = tweepy.Client(bearer_token)\n",
    "\n",
    "# # --- Database connection details ---\n",
    "DB_HOST = 'localhost'\n",
    "DB_USER = 'gmaayan'\n",
    "DB_PASSWORD = 'j.UyNY.3NsP6vrdfy3LNq.2f'\n",
    "DB_NAME = 'tweets'\n",
    "\n",
    "# --- Connect to the database ---\n",
    "db_connection = mysql.connector.connect(\n",
    "    host=DB_HOST,\n",
    "    user=DB_USER,\n",
    "    password=DB_PASSWORD,\n",
    "    database=DB_NAME,\n",
    "    charset=\"utf8mb4\",\n",
    "    collation=\"utf8mb4_unicode_ci\"\n",
    ")\n",
    "\n",
    "# Create a cursor object\n",
    "cursor = db_connection.cursor()"
   ],
   "id": "dad33025173e4ca",
   "outputs": [],
   "execution_count": 2
  },
  {
   "metadata": {
    "ExecuteTime": {
     "end_time": "2025-02-02T23:21:17.236960Z",
     "start_time": "2025-02-02T23:21:17.158512Z"
    }
   },
   "cell_type": "code",
   "source": [
    "# load tweet ids\n",
    "with open('top_tweetIds.pkl', 'rb') as f:\n",
    "    tweet_ids = pkl.load(f)\n",
    "tweet_ids = [str(id) for id in tweet_ids]\n",
    "print(len(tweet_ids))"
   ],
   "id": "d6ddba4d9d477f7f",
   "outputs": [
    {
     "name": "stdout",
     "output_type": "stream",
     "text": [
      "13683\n"
     ]
    }
   ],
   "execution_count": 3
  },
  {
   "metadata": {
    "ExecuteTime": {
     "end_time": "2025-02-02T23:30:36.121522Z",
     "start_time": "2025-02-02T23:30:36.115593Z"
    }
   },
   "cell_type": "code",
   "source": [
    "# Function to fetch tweets by IDs\n",
    "def fetch_tweets(ids):\n",
    "    tweets_response = client.get_tweets(ids,\n",
    "                                        tweet_fields=['author_id','created_at','public_metrics','source'],\n",
    "                                        user_fields=['affiliation','public_metrics','username','verified','verified_type','parody'])\n",
    "    data = list(tweets_response.data)\n",
    "    tweets_data = [dict(tweet_data) for tweet_data in data]\n",
    "    return tweets_data\n",
    "\n",
    "# Function to flatten tweet data\n",
    "def flatten_tweet_data(data):\n",
    "    flat_data = {}\n",
    "    for key, value in data.items():\n",
    "        if isinstance(value, dict):\n",
    "            flat_data.update(flatten_tweet_data(value))\n",
    "        else:\n",
    "            flat_data[key] = value\n",
    "    return flat_data\n",
    "\n",
    "# Function to insert tweets into the database\n",
    "def store_tweets(tweets_data):\n",
    "    insert_query = \"\"\"\n",
    "INSERT IGNORE INTO tweets (\n",
    "    created_at,\n",
    "    retweet_count,\n",
    "    reply_count,\n",
    "    like_count,\n",
    "    quote_count,\n",
    "    bookmark_count,\n",
    "    impression_count,\n",
    "    text,\n",
    "    edit_history_tweet_ids,\n",
    "    author_id,\n",
    "    id\n",
    ")\n",
    "VALUES (%s, %s, %s, %s, %s, %s, %s, %s, %s, %s, %s)\n",
    "\"\"\"\n",
    "    # Insert each tweet into the database\n",
    "    for tweet in tweets_data:\n",
    "        edit_history_json = json.dumps(tweet[\"edit_history_tweet_ids\"])\n",
    "        values = (\n",
    "            tweet['created_at'],\n",
    "            tweet['retweet_count'],\n",
    "            tweet['reply_count'],\n",
    "            tweet['like_count'],\n",
    "            tweet['quote_count'],\n",
    "            tweet['bookmark_count'],\n",
    "            tweet['impression_count'],\n",
    "            tweet['text'],\n",
    "            edit_history_json,\n",
    "            tweet['author_id'],\n",
    "            tweet['id']\n",
    "        )\n",
    "    \n",
    "        cursor.execute(insert_query, values)\n",
    "    \n",
    "    # Commit the transaction\n",
    "    db_connection.commit()\n",
    "    \n",
    "# Function to fetch and store tweets\n",
    "def fetch_and_store(ids):\n",
    "    tweets_data = fetch_tweets(ids)\n",
    "    flat_tweets_data = [flatten_tweet_data(tweet) for tweet in tweets_data]\n",
    "    # convert datetime to string\n",
    "    for tweet_data in flat_tweets_data:\n",
    "        tweet_data['created_at'] = tweet_data['created_at'].strftime('%Y-%m-%d %H:%M:%S')\n",
    "    store_tweets(flat_tweets_data)"
   ],
   "id": "c2e78f40f80557bb",
   "outputs": [],
   "execution_count": 11
  },
  {
   "metadata": {
    "ExecuteTime": {
     "end_time": "2025-02-03T02:12:45.328549Z",
     "start_time": "2025-02-02T23:48:14.382902Z"
    }
   },
   "cell_type": "code",
   "source": [
    "# Fetch and store tweets in batches\n",
    "batch_size = 100\n",
    "start_at = 1450\n",
    "for i in tqdm(range(start_at, len(tweet_ids), batch_size), desc=\"Processing tweets\", unit=\"batch\", unit_scale=True):\n",
    "    end_i = i + batch_size if i + batch_size < len(tweet_ids) else len(tweet_ids)\n",
    "    print(f\"Processing tweets {i} to {end_i}\")\n",
    "    try:\n",
    "        fetch_and_store(tweet_ids[i:end_i])\n",
    "        # sleep for 1 minute to avoid rate limit\n",
    "        time.sleep(70)\n",
    "    except Exception as e:\n",
    "        print(f\"Error processing tweets {i} to {end_i}: {e}\")\n",
    "        "
   ],
   "id": "1f0a274f4267f6e8",
   "outputs": [
    {
     "name": "stderr",
     "output_type": "stream",
     "text": [
      "Processing tweets:   0%|          | 0.00/123 [00:00<?, ?batch/s]"
     ]
    },
    {
     "name": "stdout",
     "output_type": "stream",
     "text": [
      "Processing tweets 1450 to 1550\n"
     ]
    },
    {
     "name": "stderr",
     "output_type": "stream",
     "text": [
      "Processing tweets:   1%|          | 1.00/123 [01:10<2:24:01, 70.8s/batch]"
     ]
    },
    {
     "name": "stdout",
     "output_type": "stream",
     "text": [
      "Processing tweets 1550 to 1650\n"
     ]
    },
    {
     "name": "stderr",
     "output_type": "stream",
     "text": [
      "Processing tweets:   2%|▏         | 2.00/123 [02:21<2:22:30, 70.7s/batch]"
     ]
    },
    {
     "name": "stdout",
     "output_type": "stream",
     "text": [
      "Processing tweets 1650 to 1750\n"
     ]
    },
    {
     "name": "stderr",
     "output_type": "stream",
     "text": [
      "Processing tweets:   2%|▏         | 3.00/123 [03:31<2:21:13, 70.6s/batch]"
     ]
    },
    {
     "name": "stdout",
     "output_type": "stream",
     "text": [
      "Processing tweets 1750 to 1850\n"
     ]
    },
    {
     "name": "stderr",
     "output_type": "stream",
     "text": [
      "Processing tweets:   3%|▎         | 4.00/123 [04:42<2:19:59, 70.6s/batch]"
     ]
    },
    {
     "name": "stdout",
     "output_type": "stream",
     "text": [
      "Processing tweets 1850 to 1950\n"
     ]
    },
    {
     "name": "stderr",
     "output_type": "stream",
     "text": [
      "Processing tweets:   4%|▍         | 5.00/123 [05:53<2:18:47, 70.6s/batch]"
     ]
    },
    {
     "name": "stdout",
     "output_type": "stream",
     "text": [
      "Processing tweets 1950 to 2050\n"
     ]
    },
    {
     "name": "stderr",
     "output_type": "stream",
     "text": [
      "Processing tweets:   5%|▍         | 6.00/123 [07:03<2:17:33, 70.5s/batch]"
     ]
    },
    {
     "name": "stdout",
     "output_type": "stream",
     "text": [
      "Processing tweets 2050 to 2150\n"
     ]
    },
    {
     "name": "stderr",
     "output_type": "stream",
     "text": [
      "Processing tweets:   6%|▌         | 7.00/123 [08:13<2:16:20, 70.5s/batch]"
     ]
    },
    {
     "name": "stdout",
     "output_type": "stream",
     "text": [
      "Processing tweets 2150 to 2250\n"
     ]
    },
    {
     "name": "stderr",
     "output_type": "stream",
     "text": [
      "Processing tweets:   7%|▋         | 8.00/123 [09:24<2:15:09, 70.5s/batch]"
     ]
    },
    {
     "name": "stdout",
     "output_type": "stream",
     "text": [
      "Processing tweets 2250 to 2350\n"
     ]
    },
    {
     "name": "stderr",
     "output_type": "stream",
     "text": [
      "Processing tweets:   7%|▋         | 9.00/123 [10:35<2:13:59, 70.5s/batch]"
     ]
    },
    {
     "name": "stdout",
     "output_type": "stream",
     "text": [
      "Processing tweets 2350 to 2450\n"
     ]
    },
    {
     "name": "stderr",
     "output_type": "stream",
     "text": [
      "Processing tweets:   8%|▊         | 10.0/123 [11:45<2:12:47, 70.5s/batch]"
     ]
    },
    {
     "name": "stdout",
     "output_type": "stream",
     "text": [
      "Processing tweets 2450 to 2550\n"
     ]
    },
    {
     "name": "stderr",
     "output_type": "stream",
     "text": [
      "Processing tweets:   9%|▉         | 11.0/123 [12:56<2:11:37, 70.5s/batch]"
     ]
    },
    {
     "name": "stdout",
     "output_type": "stream",
     "text": [
      "Processing tweets 2550 to 2650\n"
     ]
    },
    {
     "name": "stderr",
     "output_type": "stream",
     "text": [
      "Processing tweets:  10%|▉         | 12.0/123 [14:06<2:10:31, 70.6s/batch]"
     ]
    },
    {
     "name": "stdout",
     "output_type": "stream",
     "text": [
      "Processing tweets 2650 to 2750\n"
     ]
    },
    {
     "name": "stderr",
     "output_type": "stream",
     "text": [
      "Processing tweets:  11%|█         | 13.0/123 [15:17<2:09:17, 70.5s/batch]"
     ]
    },
    {
     "name": "stdout",
     "output_type": "stream",
     "text": [
      "Processing tweets 2750 to 2850\n"
     ]
    },
    {
     "name": "stderr",
     "output_type": "stream",
     "text": [
      "Processing tweets:  11%|█▏        | 14.0/123 [16:27<2:08:04, 70.5s/batch]"
     ]
    },
    {
     "name": "stdout",
     "output_type": "stream",
     "text": [
      "Processing tweets 2850 to 2950\n"
     ]
    },
    {
     "name": "stderr",
     "output_type": "stream",
     "text": [
      "Processing tweets:  12%|█▏        | 15.0/123 [17:38<2:06:53, 70.5s/batch]"
     ]
    },
    {
     "name": "stdout",
     "output_type": "stream",
     "text": [
      "Processing tweets 2950 to 3050\n"
     ]
    },
    {
     "name": "stderr",
     "output_type": "stream",
     "text": [
      "Processing tweets:  13%|█▎        | 16.0/123 [18:48<2:05:43, 70.5s/batch]"
     ]
    },
    {
     "name": "stdout",
     "output_type": "stream",
     "text": [
      "Processing tweets 3050 to 3150\n"
     ]
    },
    {
     "name": "stderr",
     "output_type": "stream",
     "text": [
      "Processing tweets:  14%|█▍        | 17.0/123 [19:59<2:04:32, 70.5s/batch]"
     ]
    },
    {
     "name": "stdout",
     "output_type": "stream",
     "text": [
      "Processing tweets 3150 to 3250\n"
     ]
    },
    {
     "name": "stderr",
     "output_type": "stream",
     "text": [
      "Processing tweets:  15%|█▍        | 18.0/123 [21:09<2:03:21, 70.5s/batch]"
     ]
    },
    {
     "name": "stdout",
     "output_type": "stream",
     "text": [
      "Processing tweets 3250 to 3350\n"
     ]
    },
    {
     "name": "stderr",
     "output_type": "stream",
     "text": [
      "Processing tweets:  15%|█▌        | 19.0/123 [22:20<2:02:12, 70.5s/batch]"
     ]
    },
    {
     "name": "stdout",
     "output_type": "stream",
     "text": [
      "Processing tweets 3350 to 3450\n"
     ]
    },
    {
     "name": "stderr",
     "output_type": "stream",
     "text": [
      "Processing tweets:  16%|█▋        | 20.0/123 [23:30<2:01:00, 70.5s/batch]"
     ]
    },
    {
     "name": "stdout",
     "output_type": "stream",
     "text": [
      "Processing tweets 3450 to 3550\n"
     ]
    },
    {
     "name": "stderr",
     "output_type": "stream",
     "text": [
      "Processing tweets:  17%|█▋        | 21.0/123 [24:41<1:59:50, 70.5s/batch]"
     ]
    },
    {
     "name": "stdout",
     "output_type": "stream",
     "text": [
      "Processing tweets 3550 to 3650\n"
     ]
    },
    {
     "name": "stderr",
     "output_type": "stream",
     "text": [
      "Processing tweets:  18%|█▊        | 22.0/123 [25:51<1:58:47, 70.6s/batch]"
     ]
    },
    {
     "name": "stdout",
     "output_type": "stream",
     "text": [
      "Processing tweets 3650 to 3750\n"
     ]
    },
    {
     "name": "stderr",
     "output_type": "stream",
     "text": [
      "Processing tweets:  19%|█▊        | 23.0/123 [27:02<1:57:33, 70.5s/batch]"
     ]
    },
    {
     "name": "stdout",
     "output_type": "stream",
     "text": [
      "Processing tweets 3750 to 3850\n"
     ]
    },
    {
     "name": "stderr",
     "output_type": "stream",
     "text": [
      "Processing tweets:  20%|█▉        | 24.0/123 [28:12<1:56:21, 70.5s/batch]"
     ]
    },
    {
     "name": "stdout",
     "output_type": "stream",
     "text": [
      "Processing tweets 3850 to 3950\n"
     ]
    },
    {
     "name": "stderr",
     "output_type": "stream",
     "text": [
      "Processing tweets:  20%|██        | 25.0/123 [29:23<1:55:12, 70.5s/batch]"
     ]
    },
    {
     "name": "stdout",
     "output_type": "stream",
     "text": [
      "Processing tweets 3950 to 4050\n"
     ]
    },
    {
     "name": "stderr",
     "output_type": "stream",
     "text": [
      "Processing tweets:  21%|██        | 26.0/123 [30:33<1:54:02, 70.5s/batch]"
     ]
    },
    {
     "name": "stdout",
     "output_type": "stream",
     "text": [
      "Processing tweets 4050 to 4150\n"
     ]
    },
    {
     "name": "stderr",
     "output_type": "stream",
     "text": [
      "Processing tweets:  22%|██▏       | 27.0/123 [31:44<1:52:51, 70.5s/batch]"
     ]
    },
    {
     "name": "stdout",
     "output_type": "stream",
     "text": [
      "Processing tweets 4150 to 4250\n"
     ]
    },
    {
     "name": "stderr",
     "output_type": "stream",
     "text": [
      "Processing tweets:  23%|██▎       | 28.0/123 [32:54<1:51:38, 70.5s/batch]"
     ]
    },
    {
     "name": "stdout",
     "output_type": "stream",
     "text": [
      "Processing tweets 4250 to 4350\n"
     ]
    },
    {
     "name": "stderr",
     "output_type": "stream",
     "text": [
      "Processing tweets:  24%|██▎       | 29.0/123 [34:05<1:50:26, 70.5s/batch]"
     ]
    },
    {
     "name": "stdout",
     "output_type": "stream",
     "text": [
      "Processing tweets 4350 to 4450\n"
     ]
    },
    {
     "name": "stderr",
     "output_type": "stream",
     "text": [
      "Processing tweets:  24%|██▍       | 30.0/123 [35:15<1:49:16, 70.5s/batch]"
     ]
    },
    {
     "name": "stdout",
     "output_type": "stream",
     "text": [
      "Processing tweets 4450 to 4550\n"
     ]
    },
    {
     "name": "stderr",
     "output_type": "stream",
     "text": [
      "Processing tweets:  25%|██▌       | 31.0/123 [36:26<1:48:04, 70.5s/batch]"
     ]
    },
    {
     "name": "stdout",
     "output_type": "stream",
     "text": [
      "Processing tweets 4550 to 4650\n"
     ]
    },
    {
     "name": "stderr",
     "output_type": "stream",
     "text": [
      "Processing tweets:  26%|██▌       | 32.0/123 [37:36<1:46:53, 70.5s/batch]"
     ]
    },
    {
     "name": "stdout",
     "output_type": "stream",
     "text": [
      "Processing tweets 4650 to 4750\n"
     ]
    },
    {
     "name": "stderr",
     "output_type": "stream",
     "text": [
      "Processing tweets:  27%|██▋       | 33.0/123 [38:47<1:45:43, 70.5s/batch]"
     ]
    },
    {
     "name": "stdout",
     "output_type": "stream",
     "text": [
      "Processing tweets 4750 to 4850\n"
     ]
    },
    {
     "name": "stderr",
     "output_type": "stream",
     "text": [
      "Processing tweets:  28%|██▊       | 34.0/123 [39:57<1:44:32, 70.5s/batch]"
     ]
    },
    {
     "name": "stdout",
     "output_type": "stream",
     "text": [
      "Processing tweets 4850 to 4950\n"
     ]
    },
    {
     "name": "stderr",
     "output_type": "stream",
     "text": [
      "Processing tweets:  28%|██▊       | 35.0/123 [41:08<1:43:20, 70.5s/batch]"
     ]
    },
    {
     "name": "stdout",
     "output_type": "stream",
     "text": [
      "Processing tweets 4950 to 5050\n"
     ]
    },
    {
     "name": "stderr",
     "output_type": "stream",
     "text": [
      "Processing tweets:  29%|██▉       | 36.0/123 [42:18<1:42:11, 70.5s/batch]"
     ]
    },
    {
     "name": "stdout",
     "output_type": "stream",
     "text": [
      "Processing tweets 5050 to 5150\n"
     ]
    },
    {
     "name": "stderr",
     "output_type": "stream",
     "text": [
      "Processing tweets:  30%|███       | 37.0/123 [43:29<1:41:04, 70.5s/batch]"
     ]
    },
    {
     "name": "stdout",
     "output_type": "stream",
     "text": [
      "Processing tweets 5150 to 5250\n"
     ]
    },
    {
     "name": "stderr",
     "output_type": "stream",
     "text": [
      "Processing tweets:  31%|███       | 38.0/123 [44:39<1:39:54, 70.5s/batch]"
     ]
    },
    {
     "name": "stdout",
     "output_type": "stream",
     "text": [
      "Processing tweets 5250 to 5350\n"
     ]
    },
    {
     "name": "stderr",
     "output_type": "stream",
     "text": [
      "Processing tweets:  32%|███▏      | 39.0/123 [45:50<1:38:44, 70.5s/batch]"
     ]
    },
    {
     "name": "stdout",
     "output_type": "stream",
     "text": [
      "Processing tweets 5350 to 5450\n"
     ]
    },
    {
     "name": "stderr",
     "output_type": "stream",
     "text": [
      "Processing tweets:  33%|███▎      | 40.0/123 [47:00<1:37:32, 70.5s/batch]"
     ]
    },
    {
     "name": "stdout",
     "output_type": "stream",
     "text": [
      "Processing tweets 5450 to 5550\n"
     ]
    },
    {
     "name": "stderr",
     "output_type": "stream",
     "text": [
      "Processing tweets:  33%|███▎      | 41.0/123 [48:11<1:36:23, 70.5s/batch]"
     ]
    },
    {
     "name": "stdout",
     "output_type": "stream",
     "text": [
      "Processing tweets 5550 to 5650\n"
     ]
    },
    {
     "name": "stderr",
     "output_type": "stream",
     "text": [
      "Processing tweets:  34%|███▍      | 42.0/123 [49:21<1:35:11, 70.5s/batch]"
     ]
    },
    {
     "name": "stdout",
     "output_type": "stream",
     "text": [
      "Processing tweets 5650 to 5750\n"
     ]
    },
    {
     "name": "stderr",
     "output_type": "stream",
     "text": [
      "Processing tweets:  35%|███▍      | 43.0/123 [50:32<1:34:00, 70.5s/batch]"
     ]
    },
    {
     "name": "stdout",
     "output_type": "stream",
     "text": [
      "Processing tweets 5750 to 5850\n"
     ]
    },
    {
     "name": "stderr",
     "output_type": "stream",
     "text": [
      "Processing tweets:  36%|███▌      | 44.0/123 [51:42<1:32:49, 70.5s/batch]"
     ]
    },
    {
     "name": "stdout",
     "output_type": "stream",
     "text": [
      "Processing tweets 5850 to 5950\n"
     ]
    },
    {
     "name": "stderr",
     "output_type": "stream",
     "text": [
      "Processing tweets:  37%|███▋      | 45.0/123 [52:53<1:31:38, 70.5s/batch]"
     ]
    },
    {
     "name": "stdout",
     "output_type": "stream",
     "text": [
      "Processing tweets 5950 to 6050\n"
     ]
    },
    {
     "name": "stderr",
     "output_type": "stream",
     "text": [
      "Processing tweets:  37%|███▋      | 46.0/123 [54:03<1:30:27, 70.5s/batch]"
     ]
    },
    {
     "name": "stdout",
     "output_type": "stream",
     "text": [
      "Processing tweets 6050 to 6150\n"
     ]
    },
    {
     "name": "stderr",
     "output_type": "stream",
     "text": [
      "Processing tweets:  38%|███▊      | 47.0/123 [55:14<1:29:17, 70.5s/batch]"
     ]
    },
    {
     "name": "stdout",
     "output_type": "stream",
     "text": [
      "Processing tweets 6150 to 6250\n"
     ]
    },
    {
     "name": "stderr",
     "output_type": "stream",
     "text": [
      "Processing tweets:  39%|███▉      | 48.0/123 [56:24<1:28:05, 70.5s/batch]"
     ]
    },
    {
     "name": "stdout",
     "output_type": "stream",
     "text": [
      "Processing tweets 6250 to 6350\n"
     ]
    },
    {
     "name": "stderr",
     "output_type": "stream",
     "text": [
      "Processing tweets:  40%|███▉      | 49.0/123 [57:35<1:26:55, 70.5s/batch]"
     ]
    },
    {
     "name": "stdout",
     "output_type": "stream",
     "text": [
      "Processing tweets 6350 to 6450\n"
     ]
    },
    {
     "name": "stderr",
     "output_type": "stream",
     "text": [
      "Processing tweets:  41%|████      | 50.0/123 [58:45<1:25:44, 70.5s/batch]"
     ]
    },
    {
     "name": "stdout",
     "output_type": "stream",
     "text": [
      "Processing tweets 6450 to 6550\n"
     ]
    },
    {
     "name": "stderr",
     "output_type": "stream",
     "text": [
      "Processing tweets:  41%|████▏     | 51.0/123 [59:56<1:24:33, 70.5s/batch]"
     ]
    },
    {
     "name": "stdout",
     "output_type": "stream",
     "text": [
      "Processing tweets 6550 to 6650\n"
     ]
    },
    {
     "name": "stderr",
     "output_type": "stream",
     "text": [
      "Processing tweets:  42%|████▏     | 52.0/123 [1:01:06<1:23:23, 70.5s/batch]"
     ]
    },
    {
     "name": "stdout",
     "output_type": "stream",
     "text": [
      "Processing tweets 6650 to 6750\n"
     ]
    },
    {
     "name": "stderr",
     "output_type": "stream",
     "text": [
      "Processing tweets:  43%|████▎     | 53.0/123 [1:02:17<1:22:14, 70.5s/batch]"
     ]
    },
    {
     "name": "stdout",
     "output_type": "stream",
     "text": [
      "Processing tweets 6750 to 6850\n"
     ]
    },
    {
     "name": "stderr",
     "output_type": "stream",
     "text": [
      "Processing tweets:  44%|████▍     | 54.0/123 [1:03:27<1:21:03, 70.5s/batch]"
     ]
    },
    {
     "name": "stdout",
     "output_type": "stream",
     "text": [
      "Processing tweets 6850 to 6950\n"
     ]
    },
    {
     "name": "stderr",
     "output_type": "stream",
     "text": [
      "Processing tweets:  45%|████▍     | 55.0/123 [1:04:38<1:19:53, 70.5s/batch]"
     ]
    },
    {
     "name": "stdout",
     "output_type": "stream",
     "text": [
      "Processing tweets 6950 to 7050\n"
     ]
    },
    {
     "name": "stderr",
     "output_type": "stream",
     "text": [
      "Processing tweets:  46%|████▌     | 56.0/123 [1:05:48<1:18:42, 70.5s/batch]"
     ]
    },
    {
     "name": "stdout",
     "output_type": "stream",
     "text": [
      "Processing tweets 7050 to 7150\n"
     ]
    },
    {
     "name": "stderr",
     "output_type": "stream",
     "text": [
      "Processing tweets:  46%|████▋     | 57.0/123 [1:06:59<1:17:31, 70.5s/batch]"
     ]
    },
    {
     "name": "stdout",
     "output_type": "stream",
     "text": [
      "Processing tweets 7150 to 7250\n"
     ]
    },
    {
     "name": "stderr",
     "output_type": "stream",
     "text": [
      "Processing tweets:  47%|████▋     | 58.0/123 [1:08:09<1:16:21, 70.5s/batch]"
     ]
    },
    {
     "name": "stdout",
     "output_type": "stream",
     "text": [
      "Processing tweets 7250 to 7350\n"
     ]
    },
    {
     "name": "stderr",
     "output_type": "stream",
     "text": [
      "Processing tweets:  48%|████▊     | 59.0/123 [1:09:20<1:15:11, 70.5s/batch]"
     ]
    },
    {
     "name": "stdout",
     "output_type": "stream",
     "text": [
      "Processing tweets 7350 to 7450\n"
     ]
    },
    {
     "name": "stderr",
     "output_type": "stream",
     "text": [
      "Processing tweets:  49%|████▉     | 60.0/123 [1:10:30<1:14:00, 70.5s/batch]"
     ]
    },
    {
     "name": "stdout",
     "output_type": "stream",
     "text": [
      "Processing tweets 7450 to 7550\n"
     ]
    },
    {
     "name": "stderr",
     "output_type": "stream",
     "text": [
      "Processing tweets:  50%|████▉     | 61.0/123 [1:11:41<1:12:50, 70.5s/batch]"
     ]
    },
    {
     "name": "stdout",
     "output_type": "stream",
     "text": [
      "Processing tweets 7550 to 7650\n"
     ]
    },
    {
     "name": "stderr",
     "output_type": "stream",
     "text": [
      "Processing tweets:  50%|█████     | 62.0/123 [1:12:51<1:11:39, 70.5s/batch]"
     ]
    },
    {
     "name": "stdout",
     "output_type": "stream",
     "text": [
      "Processing tweets 7650 to 7750\n"
     ]
    },
    {
     "name": "stderr",
     "output_type": "stream",
     "text": [
      "Processing tweets:  51%|█████     | 63.0/123 [1:14:01<1:10:28, 70.5s/batch]"
     ]
    },
    {
     "name": "stdout",
     "output_type": "stream",
     "text": [
      "Processing tweets 7750 to 7850\n"
     ]
    },
    {
     "name": "stderr",
     "output_type": "stream",
     "text": [
      "Processing tweets:  52%|█████▏    | 64.0/123 [1:15:12<1:09:18, 70.5s/batch]"
     ]
    },
    {
     "name": "stdout",
     "output_type": "stream",
     "text": [
      "Processing tweets 7850 to 7950\n"
     ]
    },
    {
     "name": "stderr",
     "output_type": "stream",
     "text": [
      "Processing tweets:  53%|█████▎    | 65.0/123 [1:16:22<1:08:08, 70.5s/batch]"
     ]
    },
    {
     "name": "stdout",
     "output_type": "stream",
     "text": [
      "Processing tweets 7950 to 8050\n"
     ]
    },
    {
     "name": "stderr",
     "output_type": "stream",
     "text": [
      "Processing tweets:  54%|█████▎    | 66.0/123 [1:17:33<1:06:57, 70.5s/batch]"
     ]
    },
    {
     "name": "stdout",
     "output_type": "stream",
     "text": [
      "Processing tweets 8050 to 8150\n"
     ]
    },
    {
     "name": "stderr",
     "output_type": "stream",
     "text": [
      "Processing tweets:  54%|█████▍    | 67.0/123 [1:18:43<1:05:46, 70.5s/batch]"
     ]
    },
    {
     "name": "stdout",
     "output_type": "stream",
     "text": [
      "Processing tweets 8150 to 8250\n"
     ]
    },
    {
     "name": "stderr",
     "output_type": "stream",
     "text": [
      "Processing tweets:  55%|█████▌    | 68.0/123 [1:19:54<1:04:35, 70.5s/batch]"
     ]
    },
    {
     "name": "stdout",
     "output_type": "stream",
     "text": [
      "Processing tweets 8250 to 8350\n"
     ]
    },
    {
     "name": "stderr",
     "output_type": "stream",
     "text": [
      "Processing tweets:  56%|█████▌    | 69.0/123 [1:21:04<1:03:24, 70.5s/batch]"
     ]
    },
    {
     "name": "stdout",
     "output_type": "stream",
     "text": [
      "Processing tweets 8350 to 8450\n"
     ]
    },
    {
     "name": "stderr",
     "output_type": "stream",
     "text": [
      "Processing tweets:  57%|█████▋    | 70.0/123 [1:22:15<1:02:13, 70.4s/batch]"
     ]
    },
    {
     "name": "stdout",
     "output_type": "stream",
     "text": [
      "Processing tweets 8450 to 8550\n"
     ]
    },
    {
     "name": "stderr",
     "output_type": "stream",
     "text": [
      "Processing tweets:  58%|█████▊    | 71.0/123 [1:23:25<1:01:05, 70.5s/batch]"
     ]
    },
    {
     "name": "stdout",
     "output_type": "stream",
     "text": [
      "Processing tweets 8550 to 8650\n"
     ]
    },
    {
     "name": "stderr",
     "output_type": "stream",
     "text": [
      "Processing tweets:  59%|█████▊    | 72.0/123 [1:24:36<59:54, 70.5s/batch]  "
     ]
    },
    {
     "name": "stdout",
     "output_type": "stream",
     "text": [
      "Processing tweets 8650 to 8750\n"
     ]
    },
    {
     "name": "stderr",
     "output_type": "stream",
     "text": [
      "Processing tweets:  59%|█████▉    | 73.0/123 [1:25:46<58:42, 70.5s/batch]"
     ]
    },
    {
     "name": "stdout",
     "output_type": "stream",
     "text": [
      "Processing tweets 8750 to 8850\n"
     ]
    },
    {
     "name": "stderr",
     "output_type": "stream",
     "text": [
      "Processing tweets:  60%|██████    | 74.0/123 [1:26:57<57:31, 70.4s/batch]"
     ]
    },
    {
     "name": "stdout",
     "output_type": "stream",
     "text": [
      "Processing tweets 8850 to 8950\n"
     ]
    },
    {
     "name": "stderr",
     "output_type": "stream",
     "text": [
      "Processing tweets:  61%|██████    | 75.0/123 [1:28:07<56:21, 70.5s/batch]"
     ]
    },
    {
     "name": "stdout",
     "output_type": "stream",
     "text": [
      "Processing tweets 8950 to 9050\n"
     ]
    },
    {
     "name": "stderr",
     "output_type": "stream",
     "text": [
      "Processing tweets:  62%|██████▏   | 76.0/123 [1:29:17<55:11, 70.5s/batch]"
     ]
    },
    {
     "name": "stdout",
     "output_type": "stream",
     "text": [
      "Processing tweets 9050 to 9150\n"
     ]
    },
    {
     "name": "stderr",
     "output_type": "stream",
     "text": [
      "Processing tweets:  63%|██████▎   | 77.0/123 [1:30:28<54:00, 70.4s/batch]"
     ]
    },
    {
     "name": "stdout",
     "output_type": "stream",
     "text": [
      "Processing tweets 9150 to 9250\n"
     ]
    },
    {
     "name": "stderr",
     "output_type": "stream",
     "text": [
      "Processing tweets:  63%|██████▎   | 78.0/123 [1:31:38<52:50, 70.5s/batch]"
     ]
    },
    {
     "name": "stdout",
     "output_type": "stream",
     "text": [
      "Processing tweets 9250 to 9350\n"
     ]
    },
    {
     "name": "stderr",
     "output_type": "stream",
     "text": [
      "Processing tweets:  64%|██████▍   | 79.0/123 [1:32:49<51:39, 70.4s/batch]"
     ]
    },
    {
     "name": "stdout",
     "output_type": "stream",
     "text": [
      "Processing tweets 9350 to 9450\n"
     ]
    },
    {
     "name": "stderr",
     "output_type": "stream",
     "text": [
      "Processing tweets:  65%|██████▌   | 80.0/123 [1:33:59<50:30, 70.5s/batch]"
     ]
    },
    {
     "name": "stdout",
     "output_type": "stream",
     "text": [
      "Processing tweets 9450 to 9550\n"
     ]
    },
    {
     "name": "stderr",
     "output_type": "stream",
     "text": [
      "Processing tweets:  66%|██████▌   | 81.0/123 [1:35:10<49:19, 70.5s/batch]"
     ]
    },
    {
     "name": "stdout",
     "output_type": "stream",
     "text": [
      "Processing tweets 9550 to 9650\n"
     ]
    },
    {
     "name": "stderr",
     "output_type": "stream",
     "text": [
      "Processing tweets:  67%|██████▋   | 82.0/123 [1:36:20<48:09, 70.5s/batch]"
     ]
    },
    {
     "name": "stdout",
     "output_type": "stream",
     "text": [
      "Processing tweets 9650 to 9750\n"
     ]
    },
    {
     "name": "stderr",
     "output_type": "stream",
     "text": [
      "Processing tweets:  67%|██████▋   | 83.0/123 [1:37:31<46:58, 70.5s/batch]"
     ]
    },
    {
     "name": "stdout",
     "output_type": "stream",
     "text": [
      "Processing tweets 9750 to 9850\n"
     ]
    },
    {
     "name": "stderr",
     "output_type": "stream",
     "text": [
      "Processing tweets:  68%|██████▊   | 84.0/123 [1:38:41<45:48, 70.5s/batch]"
     ]
    },
    {
     "name": "stdout",
     "output_type": "stream",
     "text": [
      "Processing tweets 9850 to 9950\n"
     ]
    },
    {
     "name": "stderr",
     "output_type": "stream",
     "text": [
      "Processing tweets:  69%|██████▉   | 85.0/123 [1:39:52<44:37, 70.5s/batch]"
     ]
    },
    {
     "name": "stdout",
     "output_type": "stream",
     "text": [
      "Processing tweets 9950 to 10050\n"
     ]
    },
    {
     "name": "stderr",
     "output_type": "stream",
     "text": [
      "Processing tweets:  70%|██████▉   | 86.0/123 [1:41:02<43:27, 70.5s/batch]"
     ]
    },
    {
     "name": "stdout",
     "output_type": "stream",
     "text": [
      "Processing tweets 10050 to 10150\n"
     ]
    },
    {
     "name": "stderr",
     "output_type": "stream",
     "text": [
      "Processing tweets:  71%|███████   | 87.0/123 [1:42:13<42:17, 70.5s/batch]"
     ]
    },
    {
     "name": "stdout",
     "output_type": "stream",
     "text": [
      "Processing tweets 10150 to 10250\n"
     ]
    },
    {
     "name": "stderr",
     "output_type": "stream",
     "text": [
      "Processing tweets:  72%|███████▏  | 88.0/123 [1:43:23<41:06, 70.5s/batch]"
     ]
    },
    {
     "name": "stdout",
     "output_type": "stream",
     "text": [
      "Processing tweets 10250 to 10350\n"
     ]
    },
    {
     "name": "stderr",
     "output_type": "stream",
     "text": [
      "Processing tweets:  72%|███████▏  | 89.0/123 [1:44:34<39:56, 70.5s/batch]"
     ]
    },
    {
     "name": "stdout",
     "output_type": "stream",
     "text": [
      "Processing tweets 10350 to 10450\n"
     ]
    },
    {
     "name": "stderr",
     "output_type": "stream",
     "text": [
      "Processing tweets:  73%|███████▎  | 90.0/123 [1:45:44<38:45, 70.5s/batch]"
     ]
    },
    {
     "name": "stdout",
     "output_type": "stream",
     "text": [
      "Processing tweets 10450 to 10550\n"
     ]
    },
    {
     "name": "stderr",
     "output_type": "stream",
     "text": [
      "Processing tweets:  74%|███████▍  | 91.0/123 [1:46:55<37:35, 70.5s/batch]"
     ]
    },
    {
     "name": "stdout",
     "output_type": "stream",
     "text": [
      "Processing tweets 10550 to 10650\n"
     ]
    },
    {
     "name": "stderr",
     "output_type": "stream",
     "text": [
      "Processing tweets:  75%|███████▍  | 92.0/123 [1:48:05<36:25, 70.5s/batch]"
     ]
    },
    {
     "name": "stdout",
     "output_type": "stream",
     "text": [
      "Processing tweets 10650 to 10750\n"
     ]
    },
    {
     "name": "stderr",
     "output_type": "stream",
     "text": [
      "Processing tweets:  76%|███████▌  | 93.0/123 [1:49:16<35:14, 70.5s/batch]"
     ]
    },
    {
     "name": "stdout",
     "output_type": "stream",
     "text": [
      "Processing tweets 10750 to 10850\n"
     ]
    },
    {
     "name": "stderr",
     "output_type": "stream",
     "text": [
      "Processing tweets:  76%|███████▋  | 94.0/123 [1:50:26<34:04, 70.5s/batch]"
     ]
    },
    {
     "name": "stdout",
     "output_type": "stream",
     "text": [
      "Processing tweets 10850 to 10950\n"
     ]
    },
    {
     "name": "stderr",
     "output_type": "stream",
     "text": [
      "Processing tweets:  77%|███████▋  | 95.0/123 [1:51:37<32:53, 70.5s/batch]"
     ]
    },
    {
     "name": "stdout",
     "output_type": "stream",
     "text": [
      "Processing tweets 10950 to 11050\n"
     ]
    },
    {
     "name": "stderr",
     "output_type": "stream",
     "text": [
      "Processing tweets:  78%|███████▊  | 96.0/123 [1:52:47<31:43, 70.5s/batch]"
     ]
    },
    {
     "name": "stdout",
     "output_type": "stream",
     "text": [
      "Processing tweets 11050 to 11150\n"
     ]
    },
    {
     "name": "stderr",
     "output_type": "stream",
     "text": [
      "Processing tweets:  79%|███████▉  | 97.0/123 [1:53:58<30:32, 70.5s/batch]"
     ]
    },
    {
     "name": "stdout",
     "output_type": "stream",
     "text": [
      "Processing tweets 11150 to 11250\n"
     ]
    },
    {
     "name": "stderr",
     "output_type": "stream",
     "text": [
      "Processing tweets:  80%|███████▉  | 98.0/123 [1:55:08<29:22, 70.5s/batch]"
     ]
    },
    {
     "name": "stdout",
     "output_type": "stream",
     "text": [
      "Processing tweets 11250 to 11350\n"
     ]
    },
    {
     "name": "stderr",
     "output_type": "stream",
     "text": [
      "Processing tweets:  80%|████████  | 99.0/123 [1:56:19<28:11, 70.5s/batch]"
     ]
    },
    {
     "name": "stdout",
     "output_type": "stream",
     "text": [
      "Processing tweets 11350 to 11450\n"
     ]
    },
    {
     "name": "stderr",
     "output_type": "stream",
     "text": [
      "Processing tweets:  81%|████████▏ | 100/123 [1:57:29<27:01, 70.5s/batch] "
     ]
    },
    {
     "name": "stdout",
     "output_type": "stream",
     "text": [
      "Processing tweets 11450 to 11550\n"
     ]
    },
    {
     "name": "stderr",
     "output_type": "stream",
     "text": [
      "Processing tweets:  82%|████████▏ | 101/123 [1:58:40<25:50, 70.5s/batch]"
     ]
    },
    {
     "name": "stdout",
     "output_type": "stream",
     "text": [
      "Processing tweets 11550 to 11650\n"
     ]
    },
    {
     "name": "stderr",
     "output_type": "stream",
     "text": [
      "Processing tweets:  83%|████████▎ | 102/123 [1:59:50<24:40, 70.5s/batch]"
     ]
    },
    {
     "name": "stdout",
     "output_type": "stream",
     "text": [
      "Processing tweets 11650 to 11750\n"
     ]
    },
    {
     "name": "stderr",
     "output_type": "stream",
     "text": [
      "Processing tweets:  84%|████████▎ | 103/123 [2:01:01<23:29, 70.5s/batch]"
     ]
    },
    {
     "name": "stdout",
     "output_type": "stream",
     "text": [
      "Processing tweets 11750 to 11850\n"
     ]
    },
    {
     "name": "stderr",
     "output_type": "stream",
     "text": [
      "Processing tweets:  85%|████████▍ | 104/123 [2:02:11<22:19, 70.5s/batch]"
     ]
    },
    {
     "name": "stdout",
     "output_type": "stream",
     "text": [
      "Processing tweets 11850 to 11950\n"
     ]
    },
    {
     "name": "stderr",
     "output_type": "stream",
     "text": [
      "Processing tweets:  85%|████████▌ | 105/123 [2:03:22<21:08, 70.5s/batch]"
     ]
    },
    {
     "name": "stdout",
     "output_type": "stream",
     "text": [
      "Processing tweets 11950 to 12050\n"
     ]
    },
    {
     "name": "stderr",
     "output_type": "stream",
     "text": [
      "Processing tweets:  86%|████████▌ | 106/123 [2:04:32<19:59, 70.6s/batch]"
     ]
    },
    {
     "name": "stdout",
     "output_type": "stream",
     "text": [
      "Processing tweets 12050 to 12150\n"
     ]
    },
    {
     "name": "stderr",
     "output_type": "stream",
     "text": [
      "Processing tweets:  87%|████████▋ | 107/123 [2:05:43<18:48, 70.5s/batch]"
     ]
    },
    {
     "name": "stdout",
     "output_type": "stream",
     "text": [
      "Processing tweets 12150 to 12250\n"
     ]
    },
    {
     "name": "stderr",
     "output_type": "stream",
     "text": [
      "Processing tweets:  88%|████████▊ | 108/123 [2:06:53<17:37, 70.5s/batch]"
     ]
    },
    {
     "name": "stdout",
     "output_type": "stream",
     "text": [
      "Processing tweets 12250 to 12350\n"
     ]
    },
    {
     "name": "stderr",
     "output_type": "stream",
     "text": [
      "Processing tweets:  89%|████████▊ | 109/123 [2:08:04<16:27, 70.5s/batch]"
     ]
    },
    {
     "name": "stdout",
     "output_type": "stream",
     "text": [
      "Processing tweets 12350 to 12450\n"
     ]
    },
    {
     "name": "stderr",
     "output_type": "stream",
     "text": [
      "Processing tweets:  89%|████████▉ | 110/123 [2:09:14<15:16, 70.5s/batch]"
     ]
    },
    {
     "name": "stdout",
     "output_type": "stream",
     "text": [
      "Processing tweets 12450 to 12550\n"
     ]
    },
    {
     "name": "stderr",
     "output_type": "stream",
     "text": [
      "Processing tweets:  90%|█████████ | 111/123 [2:10:25<14:06, 70.5s/batch]"
     ]
    },
    {
     "name": "stdout",
     "output_type": "stream",
     "text": [
      "Processing tweets 12550 to 12650\n"
     ]
    },
    {
     "name": "stderr",
     "output_type": "stream",
     "text": [
      "Processing tweets:  91%|█████████ | 112/123 [2:11:35<12:55, 70.5s/batch]"
     ]
    },
    {
     "name": "stdout",
     "output_type": "stream",
     "text": [
      "Processing tweets 12650 to 12750\n"
     ]
    },
    {
     "name": "stderr",
     "output_type": "stream",
     "text": [
      "Processing tweets:  92%|█████████▏| 113/123 [2:12:46<11:45, 70.5s/batch]"
     ]
    },
    {
     "name": "stdout",
     "output_type": "stream",
     "text": [
      "Processing tweets 12750 to 12850\n"
     ]
    },
    {
     "name": "stderr",
     "output_type": "stream",
     "text": [
      "Processing tweets:  93%|█████████▎| 114/123 [2:13:56<10:34, 70.5s/batch]"
     ]
    },
    {
     "name": "stdout",
     "output_type": "stream",
     "text": [
      "Processing tweets 12850 to 12950\n"
     ]
    },
    {
     "name": "stderr",
     "output_type": "stream",
     "text": [
      "Processing tweets:  93%|█████████▎| 115/123 [2:15:07<09:24, 70.5s/batch]"
     ]
    },
    {
     "name": "stdout",
     "output_type": "stream",
     "text": [
      "Processing tweets 12950 to 13050\n"
     ]
    },
    {
     "name": "stderr",
     "output_type": "stream",
     "text": [
      "Processing tweets:  94%|█████████▍| 116/123 [2:16:17<08:13, 70.5s/batch]"
     ]
    },
    {
     "name": "stdout",
     "output_type": "stream",
     "text": [
      "Processing tweets 13050 to 13150\n"
     ]
    },
    {
     "name": "stderr",
     "output_type": "stream",
     "text": [
      "Processing tweets:  95%|█████████▌| 117/123 [2:17:28<07:02, 70.5s/batch]"
     ]
    },
    {
     "name": "stdout",
     "output_type": "stream",
     "text": [
      "Processing tweets 13150 to 13250\n"
     ]
    },
    {
     "name": "stderr",
     "output_type": "stream",
     "text": [
      "Processing tweets:  96%|█████████▌| 118/123 [2:18:38<05:52, 70.5s/batch]"
     ]
    },
    {
     "name": "stdout",
     "output_type": "stream",
     "text": [
      "Processing tweets 13250 to 13350\n"
     ]
    },
    {
     "name": "stderr",
     "output_type": "stream",
     "text": [
      "Processing tweets:  97%|█████████▋| 119/123 [2:19:49<04:41, 70.5s/batch]"
     ]
    },
    {
     "name": "stdout",
     "output_type": "stream",
     "text": [
      "Processing tweets 13350 to 13450\n"
     ]
    },
    {
     "name": "stderr",
     "output_type": "stream",
     "text": [
      "Processing tweets:  98%|█████████▊| 120/123 [2:20:59<03:31, 70.5s/batch]"
     ]
    },
    {
     "name": "stdout",
     "output_type": "stream",
     "text": [
      "Processing tweets 13450 to 13550\n"
     ]
    },
    {
     "name": "stderr",
     "output_type": "stream",
     "text": [
      "Processing tweets:  98%|█████████▊| 121/123 [2:22:10<02:20, 70.5s/batch]"
     ]
    },
    {
     "name": "stdout",
     "output_type": "stream",
     "text": [
      "Processing tweets 13550 to 13650\n"
     ]
    },
    {
     "name": "stderr",
     "output_type": "stream",
     "text": [
      "Processing tweets:  99%|█████████▉| 122/123 [2:23:20<01:10, 70.5s/batch]"
     ]
    },
    {
     "name": "stdout",
     "output_type": "stream",
     "text": [
      "Processing tweets 13650 to 13683\n"
     ]
    },
    {
     "name": "stderr",
     "output_type": "stream",
     "text": [
      "Processing tweets: 100%|██████████| 123/123 [2:24:30<00:00, 70.5s/batch]\n"
     ]
    }
   ],
   "execution_count": 13
  },
  {
   "metadata": {
    "ExecuteTime": {
     "end_time": "2025-02-03T02:27:20.446422Z",
     "start_time": "2025-02-03T02:27:20.443269Z"
    }
   },
   "cell_type": "code",
   "source": [
    "# --- Clean up ---\n",
    "cursor.close()\n",
    "db_connection.close()"
   ],
   "id": "dcc0fdde44408f2d",
   "outputs": [],
   "execution_count": 14
  }
 ],
 "metadata": {
  "kernelspec": {
   "display_name": "Python 3",
   "language": "python",
   "name": "python3"
  },
  "language_info": {
   "codemirror_mode": {
    "name": "ipython",
    "version": 2
   },
   "file_extension": ".py",
   "mimetype": "text/x-python",
   "name": "python",
   "nbconvert_exporter": "python",
   "pygments_lexer": "ipython2",
   "version": "2.7.6"
  }
 },
 "nbformat": 4,
 "nbformat_minor": 5
}
