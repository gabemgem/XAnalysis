{
 "cells": [
  {
   "cell_type": "code",
   "id": "initial_id",
   "metadata": {
    "collapsed": true,
    "ExecuteTime": {
     "end_time": "2025-01-30T00:59:12.354896Z",
     "start_time": "2025-01-30T00:59:12.350544Z"
    }
   },
   "source": [
    "import tweepy\n",
    "import json"
   ],
   "outputs": [],
   "execution_count": 16
  },
  {
   "metadata": {
    "ExecuteTime": {
     "end_time": "2025-01-30T00:56:55.844678Z",
     "start_time": "2025-01-30T00:56:55.515257Z"
    }
   },
   "cell_type": "code",
   "source": [
    "# Twitter API credentials\n",
    "bearer_token = \"AAAAAAAAAAAAAAAAAAAAAEeQyQEAAAAAz7RyNP5HHBjnPkdJap%2Fb%2Bna78Dc%3D1czDzE57XZmVW65ezR9d1lGIfIRZQwyQ6EUL0xZYSQy80AZiES\"\n",
    "\n",
    "# Create API client\n",
    "client = tweepy.Client(bearer_token)\n",
    "\n",
    "# df = pd.read_csv('data/notes-00000.tsv', sep='\\t')\n",
    "# print(df['tweetId'].head())\n",
    "#\n",
    "# tweetid = df['tweetId'][0]\n",
    "# print(tweetid)\n",
    "tweetid = '1783159712986382830'\n",
    "\n",
    "# Get tweet by ID\n",
    "tweet = client.get_tweet(tweetid, \n",
    "                         tweet_fields=['author_id','created_at','public_metrics','source'],\n",
    "                         user_fields=['affiliation','public_metrics','username','verified','verified_type','parody'])\n"
   ],
   "id": "762438d4cf517f4a",
   "outputs": [],
   "execution_count": 9
  },
  {
   "metadata": {
    "ExecuteTime": {
     "end_time": "2025-01-30T00:59:34.409463Z",
     "start_time": "2025-01-30T00:59:34.405232Z"
    }
   },
   "cell_type": "code",
   "source": [
    "data = dict(tweet.data)\n",
    "print(data)"
   ],
   "id": "ef0bb703aa0b552d",
   "outputs": [
    {
     "name": "stdout",
     "output_type": "stream",
     "text": [
      "{'public_metrics': {'retweet_count': 1528, 'reply_count': 857, 'like_count': 7018, 'quote_count': 72, 'bookmark_count': 40, 'impression_count': 263046}, 'created_at': datetime.datetime(2024, 4, 24, 15, 42, 59, tzinfo=datetime.timezone.utc), 'edit_history_tweet_ids': [1783159712986382830], 'id': 1783159712986382830, 'text': 'After much deliberation, I voted \"no\" on the foreign aid supplemental package. \\n \\nWe had an opportunity to vote for an emergency aid package to Israel six months ago— Senate Democrats blocked this legislation.\\n \\nThis bill gives money to Gaza, funds NGOs who support the… https://t.co/zP6ARyGXvQ https://t.co/0nTDWoVS36', 'author_id': 1074480192}\n"
     ]
    }
   ],
   "execution_count": 18
  }
 ],
 "metadata": {
  "kernelspec": {
   "display_name": "Python 3",
   "language": "python",
   "name": "python3"
  },
  "language_info": {
   "codemirror_mode": {
    "name": "ipython",
    "version": 2
   },
   "file_extension": ".py",
   "mimetype": "text/x-python",
   "name": "python",
   "nbconvert_exporter": "python",
   "pygments_lexer": "ipython2",
   "version": "2.7.6"
  }
 },
 "nbformat": 4,
 "nbformat_minor": 5
}
