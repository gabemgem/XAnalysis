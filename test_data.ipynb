{
 "cells": [
  {
   "cell_type": "code",
   "id": "initial_id",
   "metadata": {
    "collapsed": true,
    "ExecuteTime": {
     "end_time": "2025-02-01T19:22:40.779104Z",
     "start_time": "2025-02-01T19:22:40.616142Z"
    }
   },
   "source": [
    "import tweepy\n",
    "import json"
   ],
   "outputs": [],
   "execution_count": 3
  },
  {
   "metadata": {
    "ExecuteTime": {
     "end_time": "2025-02-01T19:22:51.064878Z",
     "start_time": "2025-02-01T19:22:50.626905Z"
    }
   },
   "cell_type": "code",
   "source": [
    "# Twitter API credentials\n",
    "bearer_token = \"AAAAAAAAAAAAAAAAAAAAAEeQyQEAAAAAz7RyNP5HHBjnPkdJap%2Fb%2Bna78Dc%3D1czDzE57XZmVW65ezR9d1lGIfIRZQwyQ6EUL0xZYSQy80AZiES\"\n",
    "\n",
    "# Create API client\n",
    "client = tweepy.Client(bearer_token)\n",
    "\n",
    "# df = pd.read_csv('data/notes-00000.tsv', sep='\\t')\n",
    "# print(df['tweetId'].head())\n",
    "#\n",
    "# tweetid = df['tweetId'][0]\n",
    "# print(tweetid)\n",
    "tweetid = '1783159712986382830'\n",
    "\n",
    "# Get tweet by ID\n",
    "tweet = client.get_tweet(tweetid, \n",
    "                         tweet_fields=['author_id','created_at','public_metrics','source'],\n",
    "                         user_fields=['affiliation','public_metrics','username','verified','verified_type','parody'])\n"
   ],
   "id": "762438d4cf517f4a",
   "outputs": [],
   "execution_count": 4
  },
  {
   "metadata": {
    "ExecuteTime": {
     "end_time": "2025-02-01T19:22:56.019982Z",
     "start_time": "2025-02-01T19:22:56.011984Z"
    }
   },
   "cell_type": "code",
   "source": [
    "data = dict(tweet.data)\n",
    "print(data)"
   ],
   "id": "ef0bb703aa0b552d",
   "outputs": [
    {
     "name": "stdout",
     "output_type": "stream",
     "text": [
      "{'text': 'After much deliberation, I voted \"no\" on the foreign aid supplemental package. \\n \\nWe had an opportunity to vote for an emergency aid package to Israel six months ago— Senate Democrats blocked this legislation.\\n \\nThis bill gives money to Gaza, funds NGOs who support the… https://t.co/zP6ARyGXvQ https://t.co/0nTDWoVS36', 'edit_history_tweet_ids': [1783159712986382830], 'author_id': 1074480192, 'public_metrics': {'retweet_count': 1527, 'reply_count': 857, 'like_count': 7020, 'quote_count': 72, 'bookmark_count': 40, 'impression_count': 263048}, 'created_at': datetime.datetime(2024, 4, 24, 15, 42, 59, tzinfo=datetime.timezone.utc), 'id': 1783159712986382830}\n"
     ]
    }
   ],
   "execution_count": 5
  },
  {
   "metadata": {
    "ExecuteTime": {
     "end_time": "2025-02-01T19:23:06.775266Z",
     "start_time": "2025-02-01T19:23:06.759874Z"
    }
   },
   "cell_type": "code",
   "source": [
    "def flatten_tweet_data(data):\n",
    "    flat_data = {}\n",
    "    for key, value in data.items():\n",
    "        if isinstance(value, dict):\n",
    "            flat_data.update(flatten_tweet_data(value))\n",
    "        else:\n",
    "            flat_data[key] = value\n",
    "    return flat_data"
   ],
   "id": "519e793bf6673a8a",
   "outputs": [],
   "execution_count": 6
  },
  {
   "metadata": {
    "ExecuteTime": {
     "end_time": "2025-02-01T19:25:44.553997Z",
     "start_time": "2025-02-01T19:25:44.541962Z"
    }
   },
   "cell_type": "code",
   "source": [
    "flat_data = flatten_tweet_data(data)\n",
    "# convert datetime to string\n",
    "# flat_data['created_at'] = flat_data['created_at'].strftime('%Y-%m-%d %H:%M:%S')\n",
    "print(json.dumps(flat_data, indent=2))"
   ],
   "id": "ada68e1fd07b57a",
   "outputs": [
    {
     "name": "stdout",
     "output_type": "stream",
     "text": [
      "{\n",
      "  \"text\": \"After much deliberation, I voted \\\"no\\\" on the foreign aid supplemental package. \\n \\nWe had an opportunity to vote for an emergency aid package to Israel six months ago\\u2014 Senate Democrats blocked this legislation.\\n \\nThis bill gives money to Gaza, funds NGOs who support the\\u2026 https://t.co/zP6ARyGXvQ https://t.co/0nTDWoVS36\",\n",
      "  \"edit_history_tweet_ids\": [\n",
      "    1783159712986382830\n",
      "  ],\n",
      "  \"author_id\": 1074480192,\n",
      "  \"retweet_count\": 1527,\n",
      "  \"reply_count\": 857,\n",
      "  \"like_count\": 7020,\n",
      "  \"quote_count\": 72,\n",
      "  \"bookmark_count\": 40,\n",
      "  \"impression_count\": 263048,\n",
      "  \"created_at\": \"2024-04-24 15:42:59\",\n",
      "  \"id\": 1783159712986382830\n",
      "}\n"
     ]
    }
   ],
   "execution_count": 10
  }
 ],
 "metadata": {
  "kernelspec": {
   "display_name": "Python 3",
   "language": "python",
   "name": "python3"
  },
  "language_info": {
   "codemirror_mode": {
    "name": "ipython",
    "version": 2
   },
   "file_extension": ".py",
   "mimetype": "text/x-python",
   "name": "python",
   "nbconvert_exporter": "python",
   "pygments_lexer": "ipython2",
   "version": "2.7.6"
  }
 },
 "nbformat": 4,
 "nbformat_minor": 5
}
